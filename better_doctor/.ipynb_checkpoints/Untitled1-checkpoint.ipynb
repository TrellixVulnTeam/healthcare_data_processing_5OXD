{
 "cells": [
  {
   "cell_type": "code",
   "execution_count": 155,
   "metadata": {
    "collapsed": true
   },
   "outputs": [],
   "source": [
    "import pandas as pd\n",
    "import os\n",
    "CSV_FILEPATH='./data_files/match_file.csv'\n",
    "JSON_FILEPATH='./data_files/source_data.json'\n",
    "\n",
    "\n",
    "csv_file=pd.read_csv(CSV_FILEPATH)\n",
    "json_file=pd.read_json(JSON_FILEPATH,lines=True)\n",
    "\n",
    "df1 = pd.io.json.json_normalize(json_file.to_dict('records'))\n",
    "df2 = pd.io.json.json_normalize(df1.practices.apply(lambda x: x[0]).tolist())\n"
   ]
  },
  {
   "cell_type": "code",
   "execution_count": 156,
   "metadata": {},
   "outputs": [
    {
     "data": {
      "text/html": [
       "<div>\n",
       "<style>\n",
       "    .dataframe thead tr:only-child th {\n",
       "        text-align: right;\n",
       "    }\n",
       "\n",
       "    .dataframe thead th {\n",
       "        text-align: left;\n",
       "    }\n",
       "\n",
       "    .dataframe tbody tr th {\n",
       "        vertical-align: top;\n",
       "    }\n",
       "</style>\n",
       "<table border=\"1\" class=\"dataframe\">\n",
       "  <thead>\n",
       "    <tr style=\"text-align: right;\">\n",
       "      <th></th>\n",
       "      <th>doctor.first_name</th>\n",
       "      <th>doctor.last_name</th>\n",
       "      <th>doctor.npi</th>\n",
       "      <th>practices</th>\n",
       "    </tr>\n",
       "  </thead>\n",
       "  <tbody>\n",
       "    <tr>\n",
       "      <th>0</th>\n",
       "      <td>Dean</td>\n",
       "      <td>Israel</td>\n",
       "      <td>85103080143784778415</td>\n",
       "      <td>[{'city': 'Port Demetris', 'lon': '84.31253504...</td>\n",
       "    </tr>\n",
       "    <tr>\n",
       "      <th>1</th>\n",
       "      <td>Quinton</td>\n",
       "      <td>Mollie</td>\n",
       "      <td>36233383542350521233</td>\n",
       "      <td>[{'city': 'Nealville', 'lon': '-95.33450729432...</td>\n",
       "    </tr>\n",
       "    <tr>\n",
       "      <th>2</th>\n",
       "      <td>Vincent</td>\n",
       "      <td>Abbie</td>\n",
       "      <td>68951826121607537145</td>\n",
       "      <td>[{'city': 'West Lonnieberg', 'lon': '109.12414...</td>\n",
       "    </tr>\n",
       "    <tr>\n",
       "      <th>3</th>\n",
       "      <td>Gerardo</td>\n",
       "      <td>Piper</td>\n",
       "      <td>92442805782715742535</td>\n",
       "      <td>[{'city': 'Grantborough', 'lon': '12.229188372...</td>\n",
       "    </tr>\n",
       "    <tr>\n",
       "      <th>4</th>\n",
       "      <td>Dean</td>\n",
       "      <td>Francesco</td>\n",
       "      <td>83029151715578341587</td>\n",
       "      <td>[{'city': 'New Fredy', 'lon': '-41.46795232079...</td>\n",
       "    </tr>\n",
       "  </tbody>\n",
       "</table>\n",
       "</div>"
      ],
      "text/plain": [
       "  doctor.first_name doctor.last_name            doctor.npi  \\\n",
       "0              Dean           Israel  85103080143784778415   \n",
       "1           Quinton           Mollie  36233383542350521233   \n",
       "2           Vincent            Abbie  68951826121607537145   \n",
       "3           Gerardo            Piper  92442805782715742535   \n",
       "4              Dean        Francesco  83029151715578341587   \n",
       "\n",
       "                                           practices  \n",
       "0  [{'city': 'Port Demetris', 'lon': '84.31253504...  \n",
       "1  [{'city': 'Nealville', 'lon': '-95.33450729432...  \n",
       "2  [{'city': 'West Lonnieberg', 'lon': '109.12414...  \n",
       "3  [{'city': 'Grantborough', 'lon': '12.229188372...  \n",
       "4  [{'city': 'New Fredy', 'lon': '-41.46795232079...  "
      ]
     },
     "execution_count": 156,
     "metadata": {},
     "output_type": "execute_result"
    }
   ],
   "source": [
    "df1.head()"
   ]
  },
  {
   "cell_type": "code",
   "execution_count": 3,
   "metadata": {
    "collapsed": true
   },
   "outputs": [],
   "source": [
    "df1['city'] = df2.city\n",
    "df1['lat'] = df2.lat\n",
    "df1['lat'] = df2.lat\n",
    "df1['state'] = df2.state\n",
    "df1['street'] = df2.street\n",
    "df1['street_2'] = df2.street_2\n",
    "df1['zip'] = df2.zip"
   ]
  },
  {
   "cell_type": "code",
   "execution_count": 4,
   "metadata": {},
   "outputs": [
    {
     "data": {
      "text/html": [
       "<div>\n",
       "<style>\n",
       "    .dataframe thead tr:only-child th {\n",
       "        text-align: right;\n",
       "    }\n",
       "\n",
       "    .dataframe thead th {\n",
       "        text-align: left;\n",
       "    }\n",
       "\n",
       "    .dataframe tbody tr th {\n",
       "        vertical-align: top;\n",
       "    }\n",
       "</style>\n",
       "<table border=\"1\" class=\"dataframe\">\n",
       "  <thead>\n",
       "    <tr style=\"text-align: right;\">\n",
       "      <th></th>\n",
       "      <th>doctor.first_name</th>\n",
       "      <th>doctor.last_name</th>\n",
       "      <th>doctor.npi</th>\n",
       "      <th>city</th>\n",
       "      <th>lat</th>\n",
       "      <th>state</th>\n",
       "      <th>street</th>\n",
       "      <th>street_2</th>\n",
       "      <th>zip</th>\n",
       "    </tr>\n",
       "  </thead>\n",
       "  <tbody>\n",
       "    <tr>\n",
       "      <th>0</th>\n",
       "      <td>Dean</td>\n",
       "      <td>Israel</td>\n",
       "      <td>85103080143784778415</td>\n",
       "      <td>Port Demetris</td>\n",
       "      <td>-79.8757664338564</td>\n",
       "      <td>LA</td>\n",
       "      <td>271 Annabelle Fort</td>\n",
       "      <td>Apt. 404</td>\n",
       "      <td>53549</td>\n",
       "    </tr>\n",
       "    <tr>\n",
       "      <th>1</th>\n",
       "      <td>Quinton</td>\n",
       "      <td>Mollie</td>\n",
       "      <td>36233383542350521233</td>\n",
       "      <td>Nealville</td>\n",
       "      <td>81.37417480720865</td>\n",
       "      <td>OR</td>\n",
       "      <td>8496 Kennedi Inlet</td>\n",
       "      <td>Suite 815</td>\n",
       "      <td>52665-6811</td>\n",
       "    </tr>\n",
       "    <tr>\n",
       "      <th>2</th>\n",
       "      <td>Vincent</td>\n",
       "      <td>Abbie</td>\n",
       "      <td>68951826121607537145</td>\n",
       "      <td>West Lonnieberg</td>\n",
       "      <td>52.12502086274685</td>\n",
       "      <td>GA</td>\n",
       "      <td>210 Walsh Island</td>\n",
       "      <td>Suite 839</td>\n",
       "      <td>59104</td>\n",
       "    </tr>\n",
       "    <tr>\n",
       "      <th>3</th>\n",
       "      <td>Gerardo</td>\n",
       "      <td>Piper</td>\n",
       "      <td>92442805782715742535</td>\n",
       "      <td>Grantborough</td>\n",
       "      <td>78.53231427000821</td>\n",
       "      <td>MN</td>\n",
       "      <td>1262 O'Keefe Ford</td>\n",
       "      <td>Apt. 790</td>\n",
       "      <td>39283</td>\n",
       "    </tr>\n",
       "    <tr>\n",
       "      <th>4</th>\n",
       "      <td>Dean</td>\n",
       "      <td>Francesco</td>\n",
       "      <td>83029151715578341587</td>\n",
       "      <td>New Fredy</td>\n",
       "      <td>-4.541598251928605</td>\n",
       "      <td>IL</td>\n",
       "      <td>98764 Mante Trafficway</td>\n",
       "      <td>Suite 356</td>\n",
       "      <td>43570</td>\n",
       "    </tr>\n",
       "  </tbody>\n",
       "</table>\n",
       "</div>"
      ],
      "text/plain": [
       "  doctor.first_name doctor.last_name            doctor.npi             city  \\\n",
       "0              Dean           Israel  85103080143784778415    Port Demetris   \n",
       "1           Quinton           Mollie  36233383542350521233        Nealville   \n",
       "2           Vincent            Abbie  68951826121607537145  West Lonnieberg   \n",
       "3           Gerardo            Piper  92442805782715742535     Grantborough   \n",
       "4              Dean        Francesco  83029151715578341587        New Fredy   \n",
       "\n",
       "                  lat state                  street   street_2         zip  \n",
       "0   -79.8757664338564    LA      271 Annabelle Fort   Apt. 404       53549  \n",
       "1   81.37417480720865    OR      8496 Kennedi Inlet  Suite 815  52665-6811  \n",
       "2   52.12502086274685    GA        210 Walsh Island  Suite 839       59104  \n",
       "3   78.53231427000821    MN       1262 O'Keefe Ford   Apt. 790       39283  \n",
       "4  -4.541598251928605    IL  98764 Mante Trafficway  Suite 356       43570  "
      ]
     },
     "execution_count": 4,
     "metadata": {},
     "output_type": "execute_result"
    }
   ],
   "source": [
    "df1 = df1.drop(['practices'], 1).copy()\n",
    "df1.head()"
   ]
  },
  {
   "cell_type": "code",
   "execution_count": 5,
   "metadata": {},
   "outputs": [
    {
     "data": {
      "text/html": [
       "<div>\n",
       "<style>\n",
       "    .dataframe thead tr:only-child th {\n",
       "        text-align: right;\n",
       "    }\n",
       "\n",
       "    .dataframe thead th {\n",
       "        text-align: left;\n",
       "    }\n",
       "\n",
       "    .dataframe tbody tr th {\n",
       "        vertical-align: top;\n",
       "    }\n",
       "</style>\n",
       "<table border=\"1\" class=\"dataframe\">\n",
       "  <thead>\n",
       "    <tr style=\"text-align: right;\">\n",
       "      <th></th>\n",
       "      <th>first_name</th>\n",
       "      <th>last_name</th>\n",
       "      <th>npi</th>\n",
       "      <th>street</th>\n",
       "      <th>street_2</th>\n",
       "      <th>city</th>\n",
       "      <th>state</th>\n",
       "      <th>zip</th>\n",
       "    </tr>\n",
       "  </thead>\n",
       "  <tbody>\n",
       "    <tr>\n",
       "      <th>0</th>\n",
       "      <td>Ruthe</td>\n",
       "      <td>Laverne</td>\n",
       "      <td>44843147983186317848</td>\n",
       "      <td>569 glenda islands</td>\n",
       "      <td>suite 163</td>\n",
       "      <td>willport</td>\n",
       "      <td>nj</td>\n",
       "      <td>23453</td>\n",
       "    </tr>\n",
       "    <tr>\n",
       "      <th>1</th>\n",
       "      <td>Marshall</td>\n",
       "      <td>Cole</td>\n",
       "      <td>18233577393219566041</td>\n",
       "      <td>59944 adaline harbor</td>\n",
       "      <td>apt. 862</td>\n",
       "      <td>keelingstad</td>\n",
       "      <td>al</td>\n",
       "      <td>94189-5965</td>\n",
       "    </tr>\n",
       "    <tr>\n",
       "      <th>2</th>\n",
       "      <td>Lawson</td>\n",
       "      <td>Lilliana</td>\n",
       "      <td>78792788275411915642</td>\n",
       "      <td>36175 amina mount</td>\n",
       "      <td>apt. 256</td>\n",
       "      <td>north daija</td>\n",
       "      <td>de</td>\n",
       "      <td>30997-4476</td>\n",
       "    </tr>\n",
       "    <tr>\n",
       "      <th>3</th>\n",
       "      <td>Martine</td>\n",
       "      <td>Kiana</td>\n",
       "      <td>23583155472740817761</td>\n",
       "      <td>188 walsh flat</td>\n",
       "      <td>apt. 891</td>\n",
       "      <td>yasmeenstad</td>\n",
       "      <td>nv</td>\n",
       "      <td>83568</td>\n",
       "    </tr>\n",
       "    <tr>\n",
       "      <th>4</th>\n",
       "      <td>Leatha</td>\n",
       "      <td>Freida</td>\n",
       "      <td>NaN</td>\n",
       "      <td>43796 gutmann plains</td>\n",
       "      <td>suite 341</td>\n",
       "      <td>vonmouth</td>\n",
       "      <td>fl</td>\n",
       "      <td>10500</td>\n",
       "    </tr>\n",
       "  </tbody>\n",
       "</table>\n",
       "</div>"
      ],
      "text/plain": [
       "  first_name last_name                   npi                street   street_2  \\\n",
       "0      Ruthe   Laverne  44843147983186317848    569 glenda islands  suite 163   \n",
       "1   Marshall      Cole  18233577393219566041  59944 adaline harbor   apt. 862   \n",
       "2     Lawson  Lilliana  78792788275411915642     36175 amina mount   apt. 256   \n",
       "3    Martine     Kiana  23583155472740817761        188 walsh flat   apt. 891   \n",
       "4     Leatha    Freida                   NaN  43796 gutmann plains  suite 341   \n",
       "\n",
       "          city state         zip  \n",
       "0     willport    nj       23453  \n",
       "1  keelingstad    al  94189-5965  \n",
       "2  north daija    de  30997-4476  \n",
       "3  yasmeenstad    nv       83568  \n",
       "4     vonmouth    fl       10500  "
      ]
     },
     "execution_count": 5,
     "metadata": {},
     "output_type": "execute_result"
    }
   ],
   "source": [
    "csv_file=pd.read_csv(CSV_FILEPATH)\n",
    "csv_file.head()\n"
   ]
  },
  {
   "cell_type": "code",
   "execution_count": 6,
   "metadata": {},
   "outputs": [
    {
     "data": {
      "text/plain": [
       "(1265, 8)"
      ]
     },
     "execution_count": 6,
     "metadata": {},
     "output_type": "execute_result"
    }
   ],
   "source": [
    "csv_file.shape"
   ]
  },
  {
   "cell_type": "code",
   "execution_count": 14,
   "metadata": {
    "collapsed": true
   },
   "outputs": [],
   "source": [
    "csv_file_sort=csv_file.sort_values (by=['first_name'], ascending=[False])"
   ]
  },
  {
   "cell_type": "code",
   "execution_count": null,
   "metadata": {
    "collapsed": true
   },
   "outputs": [],
   "source": []
  },
  {
   "cell_type": "code",
   "execution_count": 26,
   "metadata": {},
   "outputs": [
    {
     "data": {
      "text/html": [
       "<div>\n",
       "<style>\n",
       "    .dataframe thead tr:only-child th {\n",
       "        text-align: right;\n",
       "    }\n",
       "\n",
       "    .dataframe thead th {\n",
       "        text-align: left;\n",
       "    }\n",
       "\n",
       "    .dataframe tbody tr th {\n",
       "        vertical-align: top;\n",
       "    }\n",
       "</style>\n",
       "<table border=\"1\" class=\"dataframe\">\n",
       "  <thead>\n",
       "    <tr style=\"text-align: right;\">\n",
       "      <th></th>\n",
       "      <th>first_name</th>\n",
       "      <th>last_name</th>\n",
       "      <th>npi</th>\n",
       "      <th>street</th>\n",
       "      <th>street_2</th>\n",
       "      <th>city</th>\n",
       "      <th>state</th>\n",
       "      <th>zip</th>\n",
       "    </tr>\n",
       "  </thead>\n",
       "  <tbody>\n",
       "    <tr>\n",
       "      <th>628</th>\n",
       "      <td>Zoey</td>\n",
       "      <td>Bridie</td>\n",
       "      <td>NaN</td>\n",
       "      <td>835 spinka neck</td>\n",
       "      <td>apt. 401</td>\n",
       "      <td>lake karenton</td>\n",
       "      <td>ar</td>\n",
       "      <td>26269</td>\n",
       "    </tr>\n",
       "    <tr>\n",
       "      <th>1062</th>\n",
       "      <td>Zita</td>\n",
       "      <td>Freda</td>\n",
       "      <td>84331177338738649352</td>\n",
       "      <td>345 juvenal villages</td>\n",
       "      <td>apt. 996</td>\n",
       "      <td>port aaliyahport</td>\n",
       "      <td>co</td>\n",
       "      <td>41113</td>\n",
       "    </tr>\n",
       "    <tr>\n",
       "      <th>25</th>\n",
       "      <td>Zita</td>\n",
       "      <td>Yasmin</td>\n",
       "      <td>57219924682871422273</td>\n",
       "      <td>2521 runolfsdottir station</td>\n",
       "      <td>apt. 283</td>\n",
       "      <td>east annetteville</td>\n",
       "      <td>md</td>\n",
       "      <td>62342-2411</td>\n",
       "    </tr>\n",
       "    <tr>\n",
       "      <th>726</th>\n",
       "      <td>Zander</td>\n",
       "      <td>Rosina</td>\n",
       "      <td>NaN</td>\n",
       "      <td>NaN</td>\n",
       "      <td>NaN</td>\n",
       "      <td>NaN</td>\n",
       "      <td>NaN</td>\n",
       "      <td>NaN</td>\n",
       "    </tr>\n",
       "    <tr>\n",
       "      <th>1260</th>\n",
       "      <td>Zackery</td>\n",
       "      <td>Gillian</td>\n",
       "      <td>11240664612428757450</td>\n",
       "      <td>86907 metz gateway</td>\n",
       "      <td>apt. 469</td>\n",
       "      <td>pourosfurt</td>\n",
       "      <td>tx</td>\n",
       "      <td>47912-8489</td>\n",
       "    </tr>\n",
       "    <tr>\n",
       "      <th>814</th>\n",
       "      <td>Zackery</td>\n",
       "      <td>Duane</td>\n",
       "      <td>NaN</td>\n",
       "      <td>NaN</td>\n",
       "      <td>NaN</td>\n",
       "      <td>NaN</td>\n",
       "      <td>NaN</td>\n",
       "      <td>NaN</td>\n",
       "    </tr>\n",
       "    <tr>\n",
       "      <th>998</th>\n",
       "      <td>Zack</td>\n",
       "      <td>Luis</td>\n",
       "      <td>68366137855866678907</td>\n",
       "      <td>97506 samson camp</td>\n",
       "      <td>suite 718</td>\n",
       "      <td>south itzel</td>\n",
       "      <td>ia</td>\n",
       "      <td>14516</td>\n",
       "    </tr>\n",
       "    <tr>\n",
       "      <th>823</th>\n",
       "      <td>Zachery</td>\n",
       "      <td>Scot</td>\n",
       "      <td>71984277521245586588</td>\n",
       "      <td>4981 fadel branch</td>\n",
       "      <td>suite 323</td>\n",
       "      <td>alishamouth</td>\n",
       "      <td>az</td>\n",
       "      <td>10432-4276</td>\n",
       "    </tr>\n",
       "    <tr>\n",
       "      <th>440</th>\n",
       "      <td>Zachery</td>\n",
       "      <td>Zakary</td>\n",
       "      <td>NaN</td>\n",
       "      <td>NaN</td>\n",
       "      <td>NaN</td>\n",
       "      <td>NaN</td>\n",
       "      <td>NaN</td>\n",
       "      <td>NaN</td>\n",
       "    </tr>\n",
       "    <tr>\n",
       "      <th>519</th>\n",
       "      <td>Yvonne</td>\n",
       "      <td>Nathanael</td>\n",
       "      <td>32867486660956834157</td>\n",
       "      <td>78245 ryan parks</td>\n",
       "      <td>apt. 439</td>\n",
       "      <td>east karitown</td>\n",
       "      <td>wi</td>\n",
       "      <td>58450-1649</td>\n",
       "    </tr>\n",
       "    <tr>\n",
       "      <th>506</th>\n",
       "      <td>Yesenia</td>\n",
       "      <td>Roy</td>\n",
       "      <td>07124851651832757486</td>\n",
       "      <td>3956 anne island</td>\n",
       "      <td>apt. 759</td>\n",
       "      <td>karinefort</td>\n",
       "      <td>ut</td>\n",
       "      <td>63857-2670</td>\n",
       "    </tr>\n",
       "    <tr>\n",
       "      <th>1172</th>\n",
       "      <td>Yasmin</td>\n",
       "      <td>Shea</td>\n",
       "      <td>NaN</td>\n",
       "      <td>462 bogan skyway</td>\n",
       "      <td>suite 734</td>\n",
       "      <td>south loribury</td>\n",
       "      <td>pa</td>\n",
       "      <td>14240-7715</td>\n",
       "    </tr>\n",
       "    <tr>\n",
       "      <th>442</th>\n",
       "      <td>Yasmin</td>\n",
       "      <td>Elyse</td>\n",
       "      <td>45467957234046371735</td>\n",
       "      <td>2993 d'amore manor</td>\n",
       "      <td>suite 252</td>\n",
       "      <td>north franciscaport</td>\n",
       "      <td>pa</td>\n",
       "      <td>95424-6199</td>\n",
       "    </tr>\n",
       "    <tr>\n",
       "      <th>513</th>\n",
       "      <td>Xavier</td>\n",
       "      <td>Estella</td>\n",
       "      <td>18448338536686164773</td>\n",
       "      <td>82751 scottie park</td>\n",
       "      <td>suite 123</td>\n",
       "      <td>new koby</td>\n",
       "      <td>ut</td>\n",
       "      <td>41878-3310</td>\n",
       "    </tr>\n",
       "    <tr>\n",
       "      <th>750</th>\n",
       "      <td>Xander</td>\n",
       "      <td>Remington</td>\n",
       "      <td>98433831772527805771</td>\n",
       "      <td>220 glenda ranch</td>\n",
       "      <td>apt. 553</td>\n",
       "      <td>port duncanchester</td>\n",
       "      <td>tn</td>\n",
       "      <td>31521-8231</td>\n",
       "    </tr>\n",
       "    <tr>\n",
       "      <th>111</th>\n",
       "      <td>Xander</td>\n",
       "      <td>Neoma</td>\n",
       "      <td>NaN</td>\n",
       "      <td>NaN</td>\n",
       "      <td>NaN</td>\n",
       "      <td>NaN</td>\n",
       "      <td>NaN</td>\n",
       "      <td>NaN</td>\n",
       "    </tr>\n",
       "    <tr>\n",
       "      <th>373</th>\n",
       "      <td>Wyman</td>\n",
       "      <td>Catharine</td>\n",
       "      <td>01527744028779369636</td>\n",
       "      <td>344 dach islands</td>\n",
       "      <td>apt. 833</td>\n",
       "      <td>friesenshire</td>\n",
       "      <td>al</td>\n",
       "      <td>85628</td>\n",
       "    </tr>\n",
       "    <tr>\n",
       "      <th>895</th>\n",
       "      <td>Wyman</td>\n",
       "      <td>Michel</td>\n",
       "      <td>09842054671284820179</td>\n",
       "      <td>NaN</td>\n",
       "      <td>NaN</td>\n",
       "      <td>NaN</td>\n",
       "      <td>NaN</td>\n",
       "      <td>NaN</td>\n",
       "    </tr>\n",
       "    <tr>\n",
       "      <th>944</th>\n",
       "      <td>Winona</td>\n",
       "      <td>Bernadette</td>\n",
       "      <td>NaN</td>\n",
       "      <td>NaN</td>\n",
       "      <td>NaN</td>\n",
       "      <td>NaN</td>\n",
       "      <td>NaN</td>\n",
       "      <td>NaN</td>\n",
       "    </tr>\n",
       "    <tr>\n",
       "      <th>581</th>\n",
       "      <td>Winifred</td>\n",
       "      <td>Clarissa</td>\n",
       "      <td>NaN</td>\n",
       "      <td>9643 harris plaza</td>\n",
       "      <td>suite 238</td>\n",
       "      <td>donatoton</td>\n",
       "      <td>mo</td>\n",
       "      <td>56587</td>\n",
       "    </tr>\n",
       "    <tr>\n",
       "      <th>912</th>\n",
       "      <td>Winfield</td>\n",
       "      <td>Hellen</td>\n",
       "      <td>56759584710252165672</td>\n",
       "      <td>632 hudson glens</td>\n",
       "      <td>suite 470</td>\n",
       "      <td>sipesville</td>\n",
       "      <td>la</td>\n",
       "      <td>47198-9784</td>\n",
       "    </tr>\n",
       "    <tr>\n",
       "      <th>827</th>\n",
       "      <td>Wilton</td>\n",
       "      <td>Hunter</td>\n",
       "      <td>NaN</td>\n",
       "      <td>56077 ashlee walk</td>\n",
       "      <td>suite 457</td>\n",
       "      <td>west alizechester</td>\n",
       "      <td>nv</td>\n",
       "      <td>50869</td>\n",
       "    </tr>\n",
       "    <tr>\n",
       "      <th>1012</th>\n",
       "      <td>Wilson</td>\n",
       "      <td>Emmet</td>\n",
       "      <td>69886523111195884809</td>\n",
       "      <td>74191 gutmann place</td>\n",
       "      <td>suite 377</td>\n",
       "      <td>port enidview</td>\n",
       "      <td>ca</td>\n",
       "      <td>89295-5544</td>\n",
       "    </tr>\n",
       "    <tr>\n",
       "      <th>109</th>\n",
       "      <td>Wilma</td>\n",
       "      <td>Lamont</td>\n",
       "      <td>51329872375832417541</td>\n",
       "      <td>77157 ewald stravenue</td>\n",
       "      <td>suite 323</td>\n",
       "      <td>mathiasfurt</td>\n",
       "      <td>ne</td>\n",
       "      <td>93781</td>\n",
       "    </tr>\n",
       "    <tr>\n",
       "      <th>307</th>\n",
       "      <td>Willie</td>\n",
       "      <td>Kristopher</td>\n",
       "      <td>49489290886975120877</td>\n",
       "      <td>519 carter ville</td>\n",
       "      <td>apt. 797</td>\n",
       "      <td>brigittestad</td>\n",
       "      <td>sc</td>\n",
       "      <td>32581</td>\n",
       "    </tr>\n",
       "    <tr>\n",
       "      <th>556</th>\n",
       "      <td>Wilhelm</td>\n",
       "      <td>Tad</td>\n",
       "      <td>03315244686344339476</td>\n",
       "      <td>NaN</td>\n",
       "      <td>NaN</td>\n",
       "      <td>NaN</td>\n",
       "      <td>NaN</td>\n",
       "      <td>NaN</td>\n",
       "    </tr>\n",
       "    <tr>\n",
       "      <th>707</th>\n",
       "      <td>Wilfrid</td>\n",
       "      <td>Eli</td>\n",
       "      <td>58627451442571360995</td>\n",
       "      <td>4616 lloyd fords</td>\n",
       "      <td>suite 440</td>\n",
       "      <td>lake larry</td>\n",
       "      <td>va</td>\n",
       "      <td>12733</td>\n",
       "    </tr>\n",
       "    <tr>\n",
       "      <th>349</th>\n",
       "      <td>Wilfred</td>\n",
       "      <td>Tyson</td>\n",
       "      <td>46722285624416358751</td>\n",
       "      <td>1817 hollie lane</td>\n",
       "      <td>apt. 716</td>\n",
       "      <td>port giovannimouth</td>\n",
       "      <td>ks</td>\n",
       "      <td>23097</td>\n",
       "    </tr>\n",
       "    <tr>\n",
       "      <th>1108</th>\n",
       "      <td>Wilburn</td>\n",
       "      <td>Whitney</td>\n",
       "      <td>75742175831538120817</td>\n",
       "      <td>541 eveline mews</td>\n",
       "      <td>suite 697</td>\n",
       "      <td>wunschmouth</td>\n",
       "      <td>ma</td>\n",
       "      <td>56440-0863</td>\n",
       "    </tr>\n",
       "    <tr>\n",
       "      <th>659</th>\n",
       "      <td>Whitney</td>\n",
       "      <td>Nasir</td>\n",
       "      <td>NaN</td>\n",
       "      <td>NaN</td>\n",
       "      <td>NaN</td>\n",
       "      <td>NaN</td>\n",
       "      <td>NaN</td>\n",
       "      <td>NaN</td>\n",
       "    </tr>\n",
       "    <tr>\n",
       "      <th>1264</th>\n",
       "      <td>Whitney</td>\n",
       "      <td>Luis</td>\n",
       "      <td>12745874446123256447</td>\n",
       "      <td>41373 carter canyon</td>\n",
       "      <td>suite 933</td>\n",
       "      <td>wolfland</td>\n",
       "      <td>il</td>\n",
       "      <td>12512</td>\n",
       "    </tr>\n",
       "    <tr>\n",
       "      <th>494</th>\n",
       "      <td>Weston</td>\n",
       "      <td>Winona</td>\n",
       "      <td>95419088522820126523</td>\n",
       "      <td>9792 gia courts</td>\n",
       "      <td>suite 471</td>\n",
       "      <td>bergnaumtown</td>\n",
       "      <td>ia</td>\n",
       "      <td>21139-4986</td>\n",
       "    </tr>\n",
       "    <tr>\n",
       "      <th>1055</th>\n",
       "      <td>Westley</td>\n",
       "      <td>Betsy</td>\n",
       "      <td>63453507435252728862</td>\n",
       "      <td>1647 moises brooks</td>\n",
       "      <td>apt. 761</td>\n",
       "      <td>laneyton</td>\n",
       "      <td>nc</td>\n",
       "      <td>67839-4925</td>\n",
       "    </tr>\n",
       "    <tr>\n",
       "      <th>909</th>\n",
       "      <td>Westley</td>\n",
       "      <td>Rusty</td>\n",
       "      <td>NaN</td>\n",
       "      <td>451 juanita landing</td>\n",
       "      <td>apt. 916</td>\n",
       "      <td>port berta</td>\n",
       "      <td>wa</td>\n",
       "      <td>49442</td>\n",
       "    </tr>\n",
       "    <tr>\n",
       "      <th>1038</th>\n",
       "      <td>Wendy</td>\n",
       "      <td>Anthony</td>\n",
       "      <td>11351343440345156143</td>\n",
       "      <td>109 swaniawski village</td>\n",
       "      <td>suite 901</td>\n",
       "      <td>east diana</td>\n",
       "      <td>ms</td>\n",
       "      <td>40283</td>\n",
       "    </tr>\n",
       "    <tr>\n",
       "      <th>886</th>\n",
       "      <td>Wendell</td>\n",
       "      <td>Leonard</td>\n",
       "      <td>27258035474678646463</td>\n",
       "      <td>8632 beahan dam</td>\n",
       "      <td>apt. 577</td>\n",
       "      <td>robbmouth</td>\n",
       "      <td>ne</td>\n",
       "      <td>12501</td>\n",
       "    </tr>\n",
       "    <tr>\n",
       "      <th>81</th>\n",
       "      <td>Wellington</td>\n",
       "      <td>Tania</td>\n",
       "      <td>13718845714212245177</td>\n",
       "      <td>6535 rossie cape</td>\n",
       "      <td>apt. 406</td>\n",
       "      <td>north hazle</td>\n",
       "      <td>il</td>\n",
       "      <td>71955-4474</td>\n",
       "    </tr>\n",
       "    <tr>\n",
       "      <th>1213</th>\n",
       "      <td>Wellington</td>\n",
       "      <td>Eveline</td>\n",
       "      <td>52224515635263622552</td>\n",
       "      <td>NaN</td>\n",
       "      <td>NaN</td>\n",
       "      <td>NaN</td>\n",
       "      <td>NaN</td>\n",
       "      <td>NaN</td>\n",
       "    </tr>\n",
       "    <tr>\n",
       "      <th>739</th>\n",
       "      <td>Weldon</td>\n",
       "      <td>Delta</td>\n",
       "      <td>NaN</td>\n",
       "      <td>77116 norris summit</td>\n",
       "      <td>suite 387</td>\n",
       "      <td>lake tristinfurt</td>\n",
       "      <td>az</td>\n",
       "      <td>38899</td>\n",
       "    </tr>\n",
       "    <tr>\n",
       "      <th>548</th>\n",
       "      <td>Walton</td>\n",
       "      <td>Wallace</td>\n",
       "      <td>65457710845788423178</td>\n",
       "      <td>1018 o'keefe centers</td>\n",
       "      <td>apt. 424</td>\n",
       "      <td>abigailview</td>\n",
       "      <td>nc</td>\n",
       "      <td>75277</td>\n",
       "    </tr>\n",
       "    <tr>\n",
       "      <th>671</th>\n",
       "      <td>Wallace</td>\n",
       "      <td>Roxanne</td>\n",
       "      <td>61560018841422415715</td>\n",
       "      <td>17634 blaze unions</td>\n",
       "      <td>apt. 415</td>\n",
       "      <td>kristianside</td>\n",
       "      <td>sd</td>\n",
       "      <td>12277</td>\n",
       "    </tr>\n",
       "    <tr>\n",
       "      <th>721</th>\n",
       "      <td>Wade</td>\n",
       "      <td>Marilie</td>\n",
       "      <td>NaN</td>\n",
       "      <td>840 destiney walks</td>\n",
       "      <td>apt. 389</td>\n",
       "      <td>helenaberg</td>\n",
       "      <td>ok</td>\n",
       "      <td>12336-6737</td>\n",
       "    </tr>\n",
       "    <tr>\n",
       "      <th>1242</th>\n",
       "      <td>Wade</td>\n",
       "      <td>Geo</td>\n",
       "      <td>NaN</td>\n",
       "      <td>73224 brycen crest</td>\n",
       "      <td>apt. 797</td>\n",
       "      <td>russelland</td>\n",
       "      <td>ut</td>\n",
       "      <td>63918-5609</td>\n",
       "    </tr>\n",
       "    <tr>\n",
       "      <th>941</th>\n",
       "      <td>Vladimir</td>\n",
       "      <td>Anya</td>\n",
       "      <td>21110045522637544875</td>\n",
       "      <td>827 reichel village</td>\n",
       "      <td>suite 527</td>\n",
       "      <td>east garrison</td>\n",
       "      <td>ak</td>\n",
       "      <td>92859-9532</td>\n",
       "    </tr>\n",
       "    <tr>\n",
       "      <th>247</th>\n",
       "      <td>Vivien</td>\n",
       "      <td>Jana</td>\n",
       "      <td>NaN</td>\n",
       "      <td>7243 brian court</td>\n",
       "      <td>apt. 146</td>\n",
       "      <td>east carmella</td>\n",
       "      <td>ak</td>\n",
       "      <td>12909</td>\n",
       "    </tr>\n",
       "    <tr>\n",
       "      <th>575</th>\n",
       "      <td>Vita</td>\n",
       "      <td>George</td>\n",
       "      <td>46589321794432982655</td>\n",
       "      <td>528 kulas keys</td>\n",
       "      <td>apt. 749</td>\n",
       "      <td>annabelbury</td>\n",
       "      <td>ga</td>\n",
       "      <td>33873-8280</td>\n",
       "    </tr>\n",
       "    <tr>\n",
       "      <th>968</th>\n",
       "      <td>Virginia</td>\n",
       "      <td>Sheridan</td>\n",
       "      <td>35482232374763781185</td>\n",
       "      <td>840 frances shores</td>\n",
       "      <td>suite 386</td>\n",
       "      <td>bergeland</td>\n",
       "      <td>wi</td>\n",
       "      <td>12963</td>\n",
       "    </tr>\n",
       "    <tr>\n",
       "      <th>86</th>\n",
       "      <td>Violet</td>\n",
       "      <td>Camren</td>\n",
       "      <td>44784941826932498825</td>\n",
       "      <td>941 lera hill</td>\n",
       "      <td>apt. 319</td>\n",
       "      <td>south jaycee</td>\n",
       "      <td>ks</td>\n",
       "      <td>33460</td>\n",
       "    </tr>\n",
       "    <tr>\n",
       "      <th>621</th>\n",
       "      <td>Violet</td>\n",
       "      <td>Austen</td>\n",
       "      <td>38679215335687362976</td>\n",
       "      <td>NaN</td>\n",
       "      <td>NaN</td>\n",
       "      <td>NaN</td>\n",
       "      <td>NaN</td>\n",
       "      <td>NaN</td>\n",
       "    </tr>\n",
       "    <tr>\n",
       "      <th>652</th>\n",
       "      <td>Violet</td>\n",
       "      <td>Norbert</td>\n",
       "      <td>51124202146750572513</td>\n",
       "      <td>99621 hauck mountain</td>\n",
       "      <td>suite 638</td>\n",
       "      <td>port daronton</td>\n",
       "      <td>ok</td>\n",
       "      <td>84980-8081</td>\n",
       "    </tr>\n",
       "  </tbody>\n",
       "</table>\n",
       "</div>"
      ],
      "text/plain": [
       "      first_name   last_name                   npi  \\\n",
       "628         Zoey      Bridie                   NaN   \n",
       "1062        Zita       Freda  84331177338738649352   \n",
       "25          Zita      Yasmin  57219924682871422273   \n",
       "726       Zander      Rosina                   NaN   \n",
       "1260     Zackery     Gillian  11240664612428757450   \n",
       "814      Zackery       Duane                   NaN   \n",
       "998         Zack        Luis  68366137855866678907   \n",
       "823      Zachery        Scot  71984277521245586588   \n",
       "440      Zachery      Zakary                   NaN   \n",
       "519       Yvonne   Nathanael  32867486660956834157   \n",
       "506      Yesenia         Roy  07124851651832757486   \n",
       "1172      Yasmin        Shea                   NaN   \n",
       "442       Yasmin       Elyse  45467957234046371735   \n",
       "513       Xavier     Estella  18448338536686164773   \n",
       "750       Xander   Remington  98433831772527805771   \n",
       "111       Xander       Neoma                   NaN   \n",
       "373        Wyman   Catharine  01527744028779369636   \n",
       "895        Wyman      Michel  09842054671284820179   \n",
       "944       Winona  Bernadette                   NaN   \n",
       "581     Winifred    Clarissa                   NaN   \n",
       "912     Winfield      Hellen  56759584710252165672   \n",
       "827       Wilton      Hunter                   NaN   \n",
       "1012      Wilson       Emmet  69886523111195884809   \n",
       "109        Wilma      Lamont  51329872375832417541   \n",
       "307       Willie  Kristopher  49489290886975120877   \n",
       "556      Wilhelm         Tad  03315244686344339476   \n",
       "707      Wilfrid         Eli  58627451442571360995   \n",
       "349      Wilfred       Tyson  46722285624416358751   \n",
       "1108     Wilburn     Whitney  75742175831538120817   \n",
       "659      Whitney       Nasir                   NaN   \n",
       "1264     Whitney        Luis  12745874446123256447   \n",
       "494       Weston      Winona  95419088522820126523   \n",
       "1055     Westley       Betsy  63453507435252728862   \n",
       "909      Westley       Rusty                   NaN   \n",
       "1038       Wendy     Anthony  11351343440345156143   \n",
       "886      Wendell     Leonard  27258035474678646463   \n",
       "81    Wellington       Tania  13718845714212245177   \n",
       "1213  Wellington     Eveline  52224515635263622552   \n",
       "739       Weldon       Delta                   NaN   \n",
       "548       Walton     Wallace  65457710845788423178   \n",
       "671      Wallace     Roxanne  61560018841422415715   \n",
       "721         Wade     Marilie                   NaN   \n",
       "1242        Wade         Geo                   NaN   \n",
       "941     Vladimir        Anya  21110045522637544875   \n",
       "247       Vivien        Jana                   NaN   \n",
       "575         Vita      George  46589321794432982655   \n",
       "968     Virginia    Sheridan  35482232374763781185   \n",
       "86        Violet      Camren  44784941826932498825   \n",
       "621       Violet      Austen  38679215335687362976   \n",
       "652       Violet     Norbert  51124202146750572513   \n",
       "\n",
       "                          street   street_2                 city state  \\\n",
       "628              835 spinka neck   apt. 401        lake karenton    ar   \n",
       "1062        345 juvenal villages   apt. 996     port aaliyahport    co   \n",
       "25    2521 runolfsdottir station   apt. 283    east annetteville    md   \n",
       "726                          NaN        NaN                  NaN   NaN   \n",
       "1260          86907 metz gateway   apt. 469           pourosfurt    tx   \n",
       "814                          NaN        NaN                  NaN   NaN   \n",
       "998            97506 samson camp  suite 718          south itzel    ia   \n",
       "823            4981 fadel branch  suite 323          alishamouth    az   \n",
       "440                          NaN        NaN                  NaN   NaN   \n",
       "519             78245 ryan parks   apt. 439        east karitown    wi   \n",
       "506             3956 anne island   apt. 759           karinefort    ut   \n",
       "1172            462 bogan skyway  suite 734       south loribury    pa   \n",
       "442           2993 d'amore manor  suite 252  north franciscaport    pa   \n",
       "513           82751 scottie park  suite 123             new koby    ut   \n",
       "750             220 glenda ranch   apt. 553   port duncanchester    tn   \n",
       "111                          NaN        NaN                  NaN   NaN   \n",
       "373             344 dach islands   apt. 833         friesenshire    al   \n",
       "895                          NaN        NaN                  NaN   NaN   \n",
       "944                          NaN        NaN                  NaN   NaN   \n",
       "581            9643 harris plaza  suite 238            donatoton    mo   \n",
       "912             632 hudson glens  suite 470           sipesville    la   \n",
       "827            56077 ashlee walk  suite 457    west alizechester    nv   \n",
       "1012         74191 gutmann place  suite 377        port enidview    ca   \n",
       "109        77157 ewald stravenue  suite 323          mathiasfurt    ne   \n",
       "307             519 carter ville   apt. 797         brigittestad    sc   \n",
       "556                          NaN        NaN                  NaN   NaN   \n",
       "707             4616 lloyd fords  suite 440           lake larry    va   \n",
       "349             1817 hollie lane   apt. 716   port giovannimouth    ks   \n",
       "1108            541 eveline mews  suite 697          wunschmouth    ma   \n",
       "659                          NaN        NaN                  NaN   NaN   \n",
       "1264         41373 carter canyon  suite 933             wolfland    il   \n",
       "494              9792 gia courts  suite 471         bergnaumtown    ia   \n",
       "1055          1647 moises brooks   apt. 761             laneyton    nc   \n",
       "909          451 juanita landing   apt. 916           port berta    wa   \n",
       "1038      109 swaniawski village  suite 901           east diana    ms   \n",
       "886              8632 beahan dam   apt. 577            robbmouth    ne   \n",
       "81              6535 rossie cape   apt. 406          north hazle    il   \n",
       "1213                         NaN        NaN                  NaN   NaN   \n",
       "739          77116 norris summit  suite 387     lake tristinfurt    az   \n",
       "548         1018 o'keefe centers   apt. 424          abigailview    nc   \n",
       "671           17634 blaze unions   apt. 415         kristianside    sd   \n",
       "721           840 destiney walks   apt. 389           helenaberg    ok   \n",
       "1242          73224 brycen crest   apt. 797           russelland    ut   \n",
       "941          827 reichel village  suite 527        east garrison    ak   \n",
       "247             7243 brian court   apt. 146        east carmella    ak   \n",
       "575               528 kulas keys   apt. 749          annabelbury    ga   \n",
       "968           840 frances shores  suite 386            bergeland    wi   \n",
       "86                 941 lera hill   apt. 319         south jaycee    ks   \n",
       "621                          NaN        NaN                  NaN   NaN   \n",
       "652         99621 hauck mountain  suite 638        port daronton    ok   \n",
       "\n",
       "             zip  \n",
       "628        26269  \n",
       "1062       41113  \n",
       "25    62342-2411  \n",
       "726          NaN  \n",
       "1260  47912-8489  \n",
       "814          NaN  \n",
       "998        14516  \n",
       "823   10432-4276  \n",
       "440          NaN  \n",
       "519   58450-1649  \n",
       "506   63857-2670  \n",
       "1172  14240-7715  \n",
       "442   95424-6199  \n",
       "513   41878-3310  \n",
       "750   31521-8231  \n",
       "111          NaN  \n",
       "373        85628  \n",
       "895          NaN  \n",
       "944          NaN  \n",
       "581        56587  \n",
       "912   47198-9784  \n",
       "827        50869  \n",
       "1012  89295-5544  \n",
       "109        93781  \n",
       "307        32581  \n",
       "556          NaN  \n",
       "707        12733  \n",
       "349        23097  \n",
       "1108  56440-0863  \n",
       "659          NaN  \n",
       "1264       12512  \n",
       "494   21139-4986  \n",
       "1055  67839-4925  \n",
       "909        49442  \n",
       "1038       40283  \n",
       "886        12501  \n",
       "81    71955-4474  \n",
       "1213         NaN  \n",
       "739        38899  \n",
       "548        75277  \n",
       "671        12277  \n",
       "721   12336-6737  \n",
       "1242  63918-5609  \n",
       "941   92859-9532  \n",
       "247        12909  \n",
       "575   33873-8280  \n",
       "968        12963  \n",
       "86         33460  \n",
       "621          NaN  \n",
       "652   84980-8081  "
      ]
     },
     "execution_count": 26,
     "metadata": {},
     "output_type": "execute_result"
    }
   ],
   "source": [
    "csv_file_sort.head(50)"
   ]
  },
  {
   "cell_type": "code",
   "execution_count": 17,
   "metadata": {
    "collapsed": true
   },
   "outputs": [],
   "source": [
    "df1_sort=df1.sort_values (by=['doctor.first_name'], ascending=[False])"
   ]
  },
  {
   "cell_type": "code",
   "execution_count": 103,
   "metadata": {},
   "outputs": [
    {
     "data": {
      "text/html": [
       "<div>\n",
       "<style>\n",
       "    .dataframe thead tr:only-child th {\n",
       "        text-align: right;\n",
       "    }\n",
       "\n",
       "    .dataframe thead th {\n",
       "        text-align: left;\n",
       "    }\n",
       "\n",
       "    .dataframe tbody tr th {\n",
       "        vertical-align: top;\n",
       "    }\n",
       "</style>\n",
       "<table border=\"1\" class=\"dataframe\">\n",
       "  <thead>\n",
       "    <tr style=\"text-align: right;\">\n",
       "      <th></th>\n",
       "      <th>doctor.first_name</th>\n",
       "      <th>doctor.last_name</th>\n",
       "      <th>doctor.npi</th>\n",
       "      <th>city</th>\n",
       "      <th>lat</th>\n",
       "      <th>state</th>\n",
       "      <th>street</th>\n",
       "      <th>street_2</th>\n",
       "      <th>zip</th>\n",
       "    </tr>\n",
       "  </thead>\n",
       "  <tbody>\n",
       "    <tr>\n",
       "      <th>1834</th>\n",
       "      <td>Zora</td>\n",
       "      <td>Vernie</td>\n",
       "      <td>61247638431297532476</td>\n",
       "      <td>Wildermanfort</td>\n",
       "      <td>-15.671467726643684</td>\n",
       "      <td>KY</td>\n",
       "      <td>1068 Yost Lock</td>\n",
       "      <td>Apt. 737</td>\n",
       "      <td>22429</td>\n",
       "    </tr>\n",
       "  </tbody>\n",
       "</table>\n",
       "</div>"
      ],
      "text/plain": [
       "     doctor.first_name doctor.last_name            doctor.npi           city  \\\n",
       "1834              Zora           Vernie  61247638431297532476  Wildermanfort   \n",
       "\n",
       "                      lat state          street  street_2    zip  \n",
       "1834  -15.671467726643684    KY  1068 Yost Lock  Apt. 737  22429  "
      ]
     },
     "execution_count": 103,
     "metadata": {},
     "output_type": "execute_result"
    }
   ],
   "source": [
    "df1_sort.head(1)"
   ]
  },
  {
   "cell_type": "code",
   "execution_count": null,
   "metadata": {
    "collapsed": true
   },
   "outputs": [],
   "source": []
  },
  {
   "cell_type": "code",
   "execution_count": 173,
   "metadata": {
    "collapsed": true
   },
   "outputs": [],
   "source": [
    "import json\n",
    "fname_list = []\n",
    "lname_list = []\n",
    "npi_list = []\n",
    "\n",
    "lat_list = []\n",
    "lon_list = []\n",
    "street_list = []\n",
    "street_2_list = []\n",
    "city_list = []\n",
    "state_list = []\n",
    "zip_list = []\n",
    "unique_fname_list= []\n",
    "unique_lname_list= []\n",
    "unique_npi_list= []\n",
    "\n",
    "i = 1\n",
    "with open(JSON_FILEPATH, 'r+') as infile:\n",
    "    for line in infile:\n",
    "        line = line.replace(\"\\\\\", r\"\\\\\")\n",
    "        line = json.loads(line)\n",
    "        \n",
    "        for index, elem in enumerate(line['practices']):\n",
    "            if line['doctor']['npi'] not in unique_npi_list:\n",
    "                unique_fname_list.append(line['doctor']['first_name'])\n",
    "                unique_lname_list.append(line['doctor']['last_name'])\n",
    "                unique_npi_list.append(line['doctor']['npi'])\n",
    "            fname_list.append(line['doctor']['first_name'])\n",
    "            lname_list.append(line['doctor']['last_name'])\n",
    "            npi_list.append(line['doctor']['npi'])\n",
    "            lat_list.append(line['practices'][index]['lat'])\n",
    "            lon_list.append(line['practices'][index]['lon'])\n",
    "            street_list.append(line['practices'][index]['street'])\n",
    "            street_2_list.append(line['practices'][index]['street_2'])\n",
    "            city_list.append(line['practices'][index]['city'])\n",
    "            state_list.append(line['practices'][index]['state'])\n",
    "            zip_list.append(line['practices'][index]['zip'])\n",
    "        '''\n",
    "        i = i + 1\n",
    "        if i > 3:\n",
    "            break\n",
    "        '''"
   ]
  },
  {
   "cell_type": "code",
   "execution_count": 176,
   "metadata": {},
   "outputs": [
    {
     "data": {
      "text/plain": [
       "(22443, 22443, 22443, 22443, 22443, 22443, 22443, 11231, 11231, 11231)"
      ]
     },
     "execution_count": 176,
     "metadata": {},
     "output_type": "execute_result"
    }
   ],
   "source": [
    "len(fname_list), len(lname_list), len(street_list), len(street_2_list), len(city_list), \\\n",
    "len(state_list), len(zip_list),\\\n",
    " len(unique_fname_list), len(unique_lname_list), len(unique_npi_list)"
   ]
  },
  {
   "cell_type": "code",
   "execution_count": 31,
   "metadata": {
    "collapsed": true
   },
   "outputs": [],
   "source": [
    "new_json_data = pd.DataFrame()\n",
    "new_json_data['first_name'] = fname_list\n",
    "new_json_data['last_name'] = lname_list\n",
    "new_json_data['npi'] = npi_list\n",
    "\n",
    "new_json_data['lat'] = lat_list\n",
    "new_json_data['lon'] = lon_list\n",
    "new_json_data['street'] = street_list\n",
    "new_json_data['street_2'] = street_2_list\n",
    "new_json_data['city'] = city_list\n",
    "new_json_data['state'] = state_list\n",
    "new_json_data['zip'] = zip_list"
   ]
  },
  {
   "cell_type": "code",
   "execution_count": 177,
   "metadata": {
    "collapsed": true
   },
   "outputs": [],
   "source": [
    "doctor_data = pd.DataFrame()\n",
    "doctor_data['first_name'] = unique_fname_list\n",
    "doctor_data['last_name'] = unique_lname_list\n",
    "doctor_data['npi'] =  unique_npi_list"
   ]
  },
  {
   "cell_type": "code",
   "execution_count": 182,
   "metadata": {},
   "outputs": [
    {
     "data": {
      "text/html": [
       "<div>\n",
       "<style>\n",
       "    .dataframe thead tr:only-child th {\n",
       "        text-align: right;\n",
       "    }\n",
       "\n",
       "    .dataframe thead th {\n",
       "        text-align: left;\n",
       "    }\n",
       "\n",
       "    .dataframe tbody tr th {\n",
       "        vertical-align: top;\n",
       "    }\n",
       "</style>\n",
       "<table border=\"1\" class=\"dataframe\">\n",
       "  <thead>\n",
       "    <tr style=\"text-align: right;\">\n",
       "      <th></th>\n",
       "      <th>first_name</th>\n",
       "      <th>last_name</th>\n",
       "      <th>npi</th>\n",
       "    </tr>\n",
       "  </thead>\n",
       "  <tbody>\n",
       "    <tr>\n",
       "      <th>0</th>\n",
       "      <td>Dean</td>\n",
       "      <td>Israel</td>\n",
       "      <td>85103080143784778415</td>\n",
       "    </tr>\n",
       "    <tr>\n",
       "      <th>1</th>\n",
       "      <td>Quinton</td>\n",
       "      <td>Mollie</td>\n",
       "      <td>36233383542350521233</td>\n",
       "    </tr>\n",
       "    <tr>\n",
       "      <th>2</th>\n",
       "      <td>Vincent</td>\n",
       "      <td>Abbie</td>\n",
       "      <td>68951826121607537145</td>\n",
       "    </tr>\n",
       "    <tr>\n",
       "      <th>3</th>\n",
       "      <td>Gerardo</td>\n",
       "      <td>Piper</td>\n",
       "      <td>92442805782715742535</td>\n",
       "    </tr>\n",
       "    <tr>\n",
       "      <th>4</th>\n",
       "      <td>Dean</td>\n",
       "      <td>Francesco</td>\n",
       "      <td>83029151715578341587</td>\n",
       "    </tr>\n",
       "    <tr>\n",
       "      <th>5</th>\n",
       "      <td>Marshall</td>\n",
       "      <td>Cole</td>\n",
       "      <td>18233577393219566041</td>\n",
       "    </tr>\n",
       "    <tr>\n",
       "      <th>6</th>\n",
       "      <td>Lawson</td>\n",
       "      <td>Lilliana</td>\n",
       "      <td>78792788275411915642</td>\n",
       "    </tr>\n",
       "    <tr>\n",
       "      <th>7</th>\n",
       "      <td>Coty</td>\n",
       "      <td>Brad</td>\n",
       "      <td>50391514247237749255</td>\n",
       "    </tr>\n",
       "    <tr>\n",
       "      <th>8</th>\n",
       "      <td>Billy</td>\n",
       "      <td>Gennaro</td>\n",
       "      <td>10032670447666263763</td>\n",
       "    </tr>\n",
       "    <tr>\n",
       "      <th>9</th>\n",
       "      <td>Deion</td>\n",
       "      <td>Mae</td>\n",
       "      <td>36556623055822736995</td>\n",
       "    </tr>\n",
       "  </tbody>\n",
       "</table>\n",
       "</div>"
      ],
      "text/plain": [
       "  first_name  last_name                   npi\n",
       "0       Dean     Israel  85103080143784778415\n",
       "1    Quinton     Mollie  36233383542350521233\n",
       "2    Vincent      Abbie  68951826121607537145\n",
       "3    Gerardo      Piper  92442805782715742535\n",
       "4       Dean  Francesco  83029151715578341587\n",
       "5   Marshall       Cole  18233577393219566041\n",
       "6     Lawson   Lilliana  78792788275411915642\n",
       "7       Coty       Brad  50391514247237749255\n",
       "8      Billy    Gennaro  10032670447666263763\n",
       "9      Deion        Mae  36556623055822736995"
      ]
     },
     "execution_count": 182,
     "metadata": {},
     "output_type": "execute_result"
    }
   ],
   "source": [
    "doctor_data.head(10)"
   ]
  },
  {
   "cell_type": "code",
   "execution_count": 180,
   "metadata": {},
   "outputs": [
    {
     "data": {
      "text/plain": [
       "(11231, 3)"
      ]
     },
     "execution_count": 180,
     "metadata": {},
     "output_type": "execute_result"
    }
   ],
   "source": [
    "doctor_data.shape"
   ]
  },
  {
   "cell_type": "code",
   "execution_count": 186,
   "metadata": {
    "collapsed": true
   },
   "outputs": [],
   "source": [
    "#b) number of Doctors matched with NPI"
   ]
  },
  {
   "cell_type": "code",
   "execution_count": 188,
   "metadata": {
    "collapsed": true
   },
   "outputs": [],
   "source": [
    "matched_doctor_on_npi = pd.merge(doctor_data, csv_file, on=['npi'], how='inner')\n",
    "\n"
   ]
  },
  {
   "cell_type": "code",
   "execution_count": 189,
   "metadata": {},
   "outputs": [
    {
     "data": {
      "text/html": [
       "<div>\n",
       "<style>\n",
       "    .dataframe thead tr:only-child th {\n",
       "        text-align: right;\n",
       "    }\n",
       "\n",
       "    .dataframe thead th {\n",
       "        text-align: left;\n",
       "    }\n",
       "\n",
       "    .dataframe tbody tr th {\n",
       "        vertical-align: top;\n",
       "    }\n",
       "</style>\n",
       "<table border=\"1\" class=\"dataframe\">\n",
       "  <thead>\n",
       "    <tr style=\"text-align: right;\">\n",
       "      <th></th>\n",
       "      <th>first_name_x</th>\n",
       "      <th>last_name_x</th>\n",
       "      <th>npi</th>\n",
       "      <th>first_name_y</th>\n",
       "      <th>last_name_y</th>\n",
       "      <th>street</th>\n",
       "      <th>street_2</th>\n",
       "      <th>city</th>\n",
       "      <th>state</th>\n",
       "      <th>zip</th>\n",
       "    </tr>\n",
       "  </thead>\n",
       "  <tbody>\n",
       "    <tr>\n",
       "      <th>0</th>\n",
       "      <td>Marshall</td>\n",
       "      <td>Cole</td>\n",
       "      <td>18233577393219566041</td>\n",
       "      <td>Marshall</td>\n",
       "      <td>Cole</td>\n",
       "      <td>59944 adaline harbor</td>\n",
       "      <td>apt. 862</td>\n",
       "      <td>keelingstad</td>\n",
       "      <td>al</td>\n",
       "      <td>94189-5965</td>\n",
       "    </tr>\n",
       "    <tr>\n",
       "      <th>1</th>\n",
       "      <td>Lawson</td>\n",
       "      <td>Lilliana</td>\n",
       "      <td>78792788275411915642</td>\n",
       "      <td>Lawson</td>\n",
       "      <td>Lilliana</td>\n",
       "      <td>36175 amina mount</td>\n",
       "      <td>apt. 256</td>\n",
       "      <td>north daija</td>\n",
       "      <td>de</td>\n",
       "      <td>30997-4476</td>\n",
       "    </tr>\n",
       "    <tr>\n",
       "      <th>2</th>\n",
       "      <td>Martine</td>\n",
       "      <td>Kiana</td>\n",
       "      <td>23583155472740817761</td>\n",
       "      <td>Martine</td>\n",
       "      <td>Kiana</td>\n",
       "      <td>188 walsh flat</td>\n",
       "      <td>apt. 891</td>\n",
       "      <td>yasmeenstad</td>\n",
       "      <td>nv</td>\n",
       "      <td>83568</td>\n",
       "    </tr>\n",
       "    <tr>\n",
       "      <th>3</th>\n",
       "      <td>Justyn</td>\n",
       "      <td>Abbie</td>\n",
       "      <td>78362387662864903554</td>\n",
       "      <td>Justyn</td>\n",
       "      <td>Abbie</td>\n",
       "      <td>NaN</td>\n",
       "      <td>NaN</td>\n",
       "      <td>NaN</td>\n",
       "      <td>NaN</td>\n",
       "      <td>NaN</td>\n",
       "    </tr>\n",
       "    <tr>\n",
       "      <th>4</th>\n",
       "      <td>Granville</td>\n",
       "      <td>Benton</td>\n",
       "      <td>17871640342222098849</td>\n",
       "      <td>Granville</td>\n",
       "      <td>Benton</td>\n",
       "      <td>95496 dare rue</td>\n",
       "      <td>suite 203</td>\n",
       "      <td>octaviastad</td>\n",
       "      <td>il</td>\n",
       "      <td>45294-0751</td>\n",
       "    </tr>\n",
       "  </tbody>\n",
       "</table>\n",
       "</div>"
      ],
      "text/plain": [
       "  first_name_x last_name_x                   npi first_name_y last_name_y  \\\n",
       "0     Marshall        Cole  18233577393219566041     Marshall        Cole   \n",
       "1       Lawson    Lilliana  78792788275411915642       Lawson    Lilliana   \n",
       "2      Martine       Kiana  23583155472740817761      Martine       Kiana   \n",
       "3       Justyn       Abbie  78362387662864903554       Justyn       Abbie   \n",
       "4    Granville      Benton  17871640342222098849    Granville      Benton   \n",
       "\n",
       "                 street   street_2         city state         zip  \n",
       "0  59944 adaline harbor   apt. 862  keelingstad    al  94189-5965  \n",
       "1     36175 amina mount   apt. 256  north daija    de  30997-4476  \n",
       "2        188 walsh flat   apt. 891  yasmeenstad    nv       83568  \n",
       "3                   NaN        NaN          NaN   NaN         NaN  \n",
       "4        95496 dare rue  suite 203  octaviastad    il  45294-0751  "
      ]
     },
     "execution_count": 189,
     "metadata": {},
     "output_type": "execute_result"
    }
   ],
   "source": [
    "matched_doctor_on_npi.head()"
   ]
  },
  {
   "cell_type": "code",
   "execution_count": 191,
   "metadata": {},
   "outputs": [
    {
     "data": {
      "text/plain": [
       "(864, 10)"
      ]
     },
     "execution_count": 191,
     "metadata": {},
     "output_type": "execute_result"
    }
   ],
   "source": [
    "matched_doctor_on_npi.shape"
   ]
  },
  {
   "cell_type": "code",
   "execution_count": null,
   "metadata": {
    "collapsed": true
   },
   "outputs": [],
   "source": [
    "#b) number of Practices matched with NPI"
   ]
  },
  {
   "cell_type": "code",
   "execution_count": 192,
   "metadata": {
    "collapsed": true
   },
   "outputs": [],
   "source": [
    "matched_practices_on_npi = pd.merge(new_json_data, csv_file, on=['npi'], how='inner')\n"
   ]
  },
  {
   "cell_type": "code",
   "execution_count": 193,
   "metadata": {},
   "outputs": [
    {
     "data": {
      "text/html": [
       "<div>\n",
       "<style>\n",
       "    .dataframe thead tr:only-child th {\n",
       "        text-align: right;\n",
       "    }\n",
       "\n",
       "    .dataframe thead th {\n",
       "        text-align: left;\n",
       "    }\n",
       "\n",
       "    .dataframe tbody tr th {\n",
       "        vertical-align: top;\n",
       "    }\n",
       "</style>\n",
       "<table border=\"1\" class=\"dataframe\">\n",
       "  <thead>\n",
       "    <tr style=\"text-align: right;\">\n",
       "      <th></th>\n",
       "      <th>first_name_x</th>\n",
       "      <th>last_name_x</th>\n",
       "      <th>npi</th>\n",
       "      <th>lat</th>\n",
       "      <th>lon</th>\n",
       "      <th>street_x</th>\n",
       "      <th>street_2_x</th>\n",
       "      <th>city_x</th>\n",
       "      <th>state_x</th>\n",
       "      <th>zip_x</th>\n",
       "      <th>first_name_y</th>\n",
       "      <th>last_name_y</th>\n",
       "      <th>street_y</th>\n",
       "      <th>street_2_y</th>\n",
       "      <th>city_y</th>\n",
       "      <th>state_y</th>\n",
       "      <th>zip_y</th>\n",
       "    </tr>\n",
       "  </thead>\n",
       "  <tbody>\n",
       "    <tr>\n",
       "      <th>0</th>\n",
       "      <td>Marshall</td>\n",
       "      <td>Cole</td>\n",
       "      <td>18233577393219566041</td>\n",
       "      <td>67.8952178905721</td>\n",
       "      <td>-71.54982356539455</td>\n",
       "      <td>729 Reuben Stream</td>\n",
       "      <td>Apt. 314</td>\n",
       "      <td>Lake Sheila</td>\n",
       "      <td>AZ</td>\n",
       "      <td>85355</td>\n",
       "      <td>Marshall</td>\n",
       "      <td>Cole</td>\n",
       "      <td>59944 adaline harbor</td>\n",
       "      <td>apt. 862</td>\n",
       "      <td>keelingstad</td>\n",
       "      <td>al</td>\n",
       "      <td>94189-5965</td>\n",
       "    </tr>\n",
       "    <tr>\n",
       "      <th>1</th>\n",
       "      <td>Marshall</td>\n",
       "      <td>Cole</td>\n",
       "      <td>18233577393219566041</td>\n",
       "      <td>-84.7669879597025</td>\n",
       "      <td>134.0653096213187</td>\n",
       "      <td>59944 Adaline Harbor</td>\n",
       "      <td>Apt. 862</td>\n",
       "      <td>Keelingstad</td>\n",
       "      <td>AL</td>\n",
       "      <td>94189-5965</td>\n",
       "      <td>Marshall</td>\n",
       "      <td>Cole</td>\n",
       "      <td>59944 adaline harbor</td>\n",
       "      <td>apt. 862</td>\n",
       "      <td>keelingstad</td>\n",
       "      <td>al</td>\n",
       "      <td>94189-5965</td>\n",
       "    </tr>\n",
       "    <tr>\n",
       "      <th>2</th>\n",
       "      <td>Marshall</td>\n",
       "      <td>Cole</td>\n",
       "      <td>18233577393219566041</td>\n",
       "      <td>-80.29587184932748</td>\n",
       "      <td>-156.78993611303167</td>\n",
       "      <td>920 Hester Drive</td>\n",
       "      <td>Apt. 759</td>\n",
       "      <td>South Vesta</td>\n",
       "      <td>IA</td>\n",
       "      <td>86170-5877</td>\n",
       "      <td>Marshall</td>\n",
       "      <td>Cole</td>\n",
       "      <td>59944 adaline harbor</td>\n",
       "      <td>apt. 862</td>\n",
       "      <td>keelingstad</td>\n",
       "      <td>al</td>\n",
       "      <td>94189-5965</td>\n",
       "    </tr>\n",
       "    <tr>\n",
       "      <th>3</th>\n",
       "      <td>Lawson</td>\n",
       "      <td>Lilliana</td>\n",
       "      <td>78792788275411915642</td>\n",
       "      <td>-5.6687886642665575</td>\n",
       "      <td>-78.53360129963642</td>\n",
       "      <td>36175 Amina Mount</td>\n",
       "      <td>Apt. 256</td>\n",
       "      <td>North Daija</td>\n",
       "      <td>DE</td>\n",
       "      <td>30997-4476</td>\n",
       "      <td>Lawson</td>\n",
       "      <td>Lilliana</td>\n",
       "      <td>36175 amina mount</td>\n",
       "      <td>apt. 256</td>\n",
       "      <td>north daija</td>\n",
       "      <td>de</td>\n",
       "      <td>30997-4476</td>\n",
       "    </tr>\n",
       "    <tr>\n",
       "      <th>4</th>\n",
       "      <td>Martine</td>\n",
       "      <td>Kiana</td>\n",
       "      <td>23583155472740817761</td>\n",
       "      <td>35.947411051729944</td>\n",
       "      <td>105.33018901304803</td>\n",
       "      <td>114 Kyra Mills</td>\n",
       "      <td>Apt. 482</td>\n",
       "      <td>Jacquesville</td>\n",
       "      <td>NE</td>\n",
       "      <td>89703-1741</td>\n",
       "      <td>Martine</td>\n",
       "      <td>Kiana</td>\n",
       "      <td>188 walsh flat</td>\n",
       "      <td>apt. 891</td>\n",
       "      <td>yasmeenstad</td>\n",
       "      <td>nv</td>\n",
       "      <td>83568</td>\n",
       "    </tr>\n",
       "  </tbody>\n",
       "</table>\n",
       "</div>"
      ],
      "text/plain": [
       "  first_name_x last_name_x                   npi                  lat  \\\n",
       "0     Marshall        Cole  18233577393219566041     67.8952178905721   \n",
       "1     Marshall        Cole  18233577393219566041    -84.7669879597025   \n",
       "2     Marshall        Cole  18233577393219566041   -80.29587184932748   \n",
       "3       Lawson    Lilliana  78792788275411915642  -5.6687886642665575   \n",
       "4      Martine       Kiana  23583155472740817761   35.947411051729944   \n",
       "\n",
       "                   lon              street_x street_2_x        city_x state_x  \\\n",
       "0   -71.54982356539455     729 Reuben Stream   Apt. 314   Lake Sheila      AZ   \n",
       "1    134.0653096213187  59944 Adaline Harbor   Apt. 862   Keelingstad      AL   \n",
       "2  -156.78993611303167      920 Hester Drive   Apt. 759   South Vesta      IA   \n",
       "3   -78.53360129963642     36175 Amina Mount   Apt. 256   North Daija      DE   \n",
       "4   105.33018901304803        114 Kyra Mills   Apt. 482  Jacquesville      NE   \n",
       "\n",
       "        zip_x first_name_y last_name_y              street_y street_2_y  \\\n",
       "0       85355     Marshall        Cole  59944 adaline harbor   apt. 862   \n",
       "1  94189-5965     Marshall        Cole  59944 adaline harbor   apt. 862   \n",
       "2  86170-5877     Marshall        Cole  59944 adaline harbor   apt. 862   \n",
       "3  30997-4476       Lawson    Lilliana     36175 amina mount   apt. 256   \n",
       "4  89703-1741      Martine       Kiana        188 walsh flat   apt. 891   \n",
       "\n",
       "        city_y state_y       zip_y  \n",
       "0  keelingstad      al  94189-5965  \n",
       "1  keelingstad      al  94189-5965  \n",
       "2  keelingstad      al  94189-5965  \n",
       "3  north daija      de  30997-4476  \n",
       "4  yasmeenstad      nv       83568  "
      ]
     },
     "execution_count": 193,
     "metadata": {},
     "output_type": "execute_result"
    }
   ],
   "source": [
    "matched_practices_on_npi.head()"
   ]
  },
  {
   "cell_type": "code",
   "execution_count": 195,
   "metadata": {},
   "outputs": [
    {
     "data": {
      "text/plain": [
       "(1718, 17)"
      ]
     },
     "execution_count": 195,
     "metadata": {},
     "output_type": "execute_result"
    }
   ],
   "source": [
    "matched_practices_on_npi.shape #OP"
   ]
  },
  {
   "cell_type": "code",
   "execution_count": 258,
   "metadata": {
    "collapsed": true
   },
   "outputs": [],
   "source": [
    "csv_file_name_address=pd.read_csv(CSV_FILEPATH)\n"
   ]
  },
  {
   "cell_type": "code",
   "execution_count": 259,
   "metadata": {
    "collapsed": true
   },
   "outputs": [],
   "source": [
    "\n",
    "csv_file_name_address['name_address'] = csv_file_name_address['first_name'] +'_' + csv_file_name_address['last_name'] + '_' + csv_file_name_address['street']+ '_' + csv_file_name_address['street_2']+ '_' + csv_file_name_address['city']+ '_' + csv_file_name_address['state']+'_' + csv_file_name_address['zip']"
   ]
  },
  {
   "cell_type": "code",
   "execution_count": 260,
   "metadata": {},
   "outputs": [
    {
     "data": {
      "text/plain": [
       "(1265, 9)"
      ]
     },
     "execution_count": 260,
     "metadata": {},
     "output_type": "execute_result"
    }
   ],
   "source": [
    "csv_file_name_address.shape"
   ]
  },
  {
   "cell_type": "code",
   "execution_count": 261,
   "metadata": {
    "collapsed": true
   },
   "outputs": [],
   "source": [
    "csv_file_name_address.head()\n",
    "csv_file_name_address.dropna(inplace=True)"
   ]
  },
  {
   "cell_type": "code",
   "execution_count": 262,
   "metadata": {
    "collapsed": true
   },
   "outputs": [],
   "source": [
    "import string\n",
    "import re\n",
    "regex = re.compile('[%s]' % re.escape(string.punctuation))"
   ]
  },
  {
   "cell_type": "code",
   "execution_count": 263,
   "metadata": {
    "collapsed": true
   },
   "outputs": [],
   "source": [
    "csv_file_name_address['name_address']=(csv_file_name_address['name_address'].apply(lambda x: x.lower()))\n"
   ]
  },
  {
   "cell_type": "code",
   "execution_count": 264,
   "metadata": {},
   "outputs": [
    {
     "data": {
      "text/plain": [
       "0       ruthe_laverne_569 glenda islands_suite 163_wil...\n",
       "1       marshall_cole_59944 adaline harbor_apt. 862_ke...\n",
       "2       lawson_lilliana_36175 amina mount_apt. 256_nor...\n",
       "3       martine_kiana_188 walsh flat_apt. 891_yasmeens...\n",
       "6       granville_benton_95496 dare rue_suite 203_octa...\n",
       "7       brenda_lenna_361 justyn meadow_suite 635_steub...\n",
       "9       marjory_ulices_5356 hane mountains_suite 254_e...\n",
       "11      kathryn_shany_817 hammes harbor_apt. 701_dicki...\n",
       "12      isabelle_nils_590 cummings union_apt. 390_daph...\n",
       "14      madaline_shirley_62088 krajcik summit_apt. 534...\n",
       "15      khalid_crystel_89133 schoen ferry_apt. 830_ric...\n",
       "18      montana_dominic_622 reggie inlet_apt. 456_wuns...\n",
       "19      justice_jessy_75693 eliseo burgs_suite 102_wit...\n",
       "20      maryjane_sasha_8210 romaguera ridges_apt. 807_...\n",
       "21      brice_maximillian_779 macejkovic avenue_suite ...\n",
       "23      deborah_jolie_2744 kirsten plaza_suite 148_zio...\n",
       "24      marjory_harley_3238 freeman trail_suite 472_sc...\n",
       "25      zita_yasmin_2521 runolfsdottir station_apt. 28...\n",
       "28      nella_sheridan_4326 nitzsche plaza_apt. 445_we...\n",
       "29      albin_yvette_81997 doug greens_apt. 932_north ...\n",
       "30      eden_maximillian_5148 deshaun meadow_suite 674...\n",
       "32      marguerite_johnathan_40437 elissa walks_suite ...\n",
       "34      cordell_delilah_877 joel landing_apt. 119_lean...\n",
       "36      julio_ervin_850 gilberto ranch_apt. 720_hauckh...\n",
       "37      bonnie_jocelyn_79667 ceasar garden_apt. 622_ca...\n",
       "39      sunny_cletus_46220 aniyah road_suite 610_justo...\n",
       "41      freddy_sally_649 arvid spring_apt. 556_annabel...\n",
       "42      sincere_tyree_77158 pietro knoll_suite 859_pac...\n",
       "43      dylan_shanna_976 steuber river_apt. 277_south ...\n",
       "45      camylle_haven_86962 alicia vista_apt. 940_east...\n",
       "                              ...                        \n",
       "1218    elinor_kelsi_38002 barton fields_apt. 634_lake...\n",
       "1220    gregory_kaelyn_28980 prosacco walks_suite 189_...\n",
       "1222    katarina_jackeline_529 abbigail falls_apt. 773...\n",
       "1223    anika_morgan_3002 trantow haven_suite 175_west...\n",
       "1226    keshawn_hellen_160 johnpaul shoal_apt. 819_o'h...\n",
       "1227    lucious_yasmine_763 nico run_apt. 105_south lu...\n",
       "1228    vernice_missouri_123 moises union_apt. 427_sou...\n",
       "1229    quentin_carey_8395 savion spring_apt. 515_west...\n",
       "1231    raphaelle_elisa_9963 joy trail_suite 459_jenny...\n",
       "1232    miguel_ottis_7362 rahsaan points_suite 216_por...\n",
       "1233    audra_kristoffer_42068 rosemarie spur_apt. 810...\n",
       "1236    tierra_quinn_82378 amanda point_suite 944_new ...\n",
       "1237    shania_alice_9576 caroline hill_suite 974_west...\n",
       "1239    geraldine_junior_29188 turner flats_apt. 413_h...\n",
       "1241    tyra_benedict_2159 muller road_apt. 954_stefan...\n",
       "1243    oscar_mohammad_971 runolfsson views_suite 648_...\n",
       "1244    geovanni_coby_862 ernest haven_suite 776_paris...\n",
       "1246    payton_briana_4701 kasey ports_suite 522_luthe...\n",
       "1248    keven_rex_7286 keebler centers_suite 964_kirst...\n",
       "1249    jonathon_carter_26567 schimmel springs_apt. 35...\n",
       "1250    eden_bonnie_855 daniel inlet_apt. 589_gottlieb...\n",
       "1252    reuben_arne_218 glover parkways_suite 977_sout...\n",
       "1253    einar_missouri_63186 herzog pike_suite 405_sou...\n",
       "1254    reta_daniela_65647 tromp hollow_apt. 871_new b...\n",
       "1255    reymundo_tiara_1600 wilderman flat_apt. 555_ne...\n",
       "1258    gavin_rita_356 florencio fort_suite 295_abagai...\n",
       "1259    stanford_reece_325 darrel road_suite 108_north...\n",
       "1260    zackery_gillian_86907 metz gateway_apt. 469_po...\n",
       "1262    nolan_jeffrey_452 unique curve_apt. 158_new ad...\n",
       "1264    whitney_luis_41373 carter canyon_suite 933_wol...\n",
       "Name: name_address, Length: 805, dtype: object"
      ]
     },
     "execution_count": 264,
     "metadata": {},
     "output_type": "execute_result"
    }
   ],
   "source": [
    "csv_file_name_address['name_address']"
   ]
  },
  {
   "cell_type": "code",
   "execution_count": 265,
   "metadata": {
    "collapsed": true
   },
   "outputs": [],
   "source": [
    "csv_file_name_address['name_address']=csv_file_name_address['name_address'].apply(lambda x: regex.sub('', x))"
   ]
  },
  {
   "cell_type": "code",
   "execution_count": 266,
   "metadata": {
    "collapsed": true
   },
   "outputs": [],
   "source": [
    "csv_file_name_address['name_address']=csv_file_name_address['name_address'].apply(lambda x: x.replace(' ', ''))"
   ]
  },
  {
   "cell_type": "code",
   "execution_count": 268,
   "metadata": {},
   "outputs": [
    {
     "data": {
      "text/plain": [
       "((805, 9),\n",
       "   first_name last_name                   npi                street   street_2  \\\n",
       " 0      Ruthe   Laverne  44843147983186317848    569 glenda islands  suite 163   \n",
       " 1   Marshall      Cole  18233577393219566041  59944 adaline harbor   apt. 862   \n",
       " 2     Lawson  Lilliana  78792788275411915642     36175 amina mount   apt. 256   \n",
       " 3    Martine     Kiana  23583155472740817761        188 walsh flat   apt. 891   \n",
       " 6  Granville    Benton  17871640342222098849        95496 dare rue  suite 203   \n",
       " \n",
       "           city state         zip  \\\n",
       " 0     willport    nj       23453   \n",
       " 1  keelingstad    al  94189-5965   \n",
       " 2  north daija    de  30997-4476   \n",
       " 3  yasmeenstad    nv       83568   \n",
       " 6  octaviastad    il  45294-0751   \n",
       " \n",
       "                                         name_address  \n",
       " 0  ruthelaverne569glendaislandssuite163willportnj...  \n",
       " 1  marshallcole59944adalineharborapt862keelingsta...  \n",
       " 2  lawsonlilliana36175aminamountapt256northdaijad...  \n",
       " 3   martinekiana188walshflatapt891yasmeenstadnv83568  \n",
       " 6  granvillebenton95496dareruesuite203octaviastad...  )"
      ]
     },
     "execution_count": 268,
     "metadata": {},
     "output_type": "execute_result"
    }
   ],
   "source": [
    "csv_file_name_address.shape,csv_file_name_address.head()"
   ]
  },
  {
   "cell_type": "code",
   "execution_count": 269,
   "metadata": {
    "collapsed": true
   },
   "outputs": [],
   "source": [
    "json_data_name_address=new_json_data"
   ]
  },
  {
   "cell_type": "code",
   "execution_count": 271,
   "metadata": {
    "collapsed": true
   },
   "outputs": [],
   "source": [
    "json_data_name_address['name_address'] = json_data_name_address['first_name'] +'_' + json_data_name_address['last_name'] + '_' + json_data_name_address['street']+ '_' + json_data_name_address['street_2']+ '_' + json_data_name_address['city']+ '_' + json_data_name_address['state']+'_' + json_data_name_address['zip']"
   ]
  },
  {
   "cell_type": "code",
   "execution_count": 272,
   "metadata": {
    "collapsed": true
   },
   "outputs": [],
   "source": [
    "json_data_name_address['name_address']=(json_data_name_address['name_address'].apply(lambda x: x.lower()))\n"
   ]
  },
  {
   "cell_type": "code",
   "execution_count": 273,
   "metadata": {
    "collapsed": true
   },
   "outputs": [],
   "source": [
    "json_data_name_address['name_address']=json_data_name_address['name_address'].apply(lambda x: regex.sub('', x))"
   ]
  },
  {
   "cell_type": "code",
   "execution_count": 274,
   "metadata": {
    "collapsed": true
   },
   "outputs": [],
   "source": [
    "json_data_name_address['name_address']=json_data_name_address['name_address'].apply(lambda x: x.replace(' ', ''))"
   ]
  },
  {
   "cell_type": "code",
   "execution_count": 275,
   "metadata": {},
   "outputs": [
    {
     "data": {
      "text/plain": [
       "((22443, 11),\n",
       "   first_name last_name                   npi                street   street_2  \\\n",
       " 0      Ruthe   Laverne  44843147983186317848    569 glenda islands  suite 163   \n",
       " 1   Marshall      Cole  18233577393219566041  59944 adaline harbor   apt. 862   \n",
       " 2     Lawson  Lilliana  78792788275411915642     36175 amina mount   apt. 256   \n",
       " 3    Martine     Kiana  23583155472740817761        188 walsh flat   apt. 891   \n",
       " 6  Granville    Benton  17871640342222098849        95496 dare rue  suite 203   \n",
       " \n",
       "           city state         zip  \\\n",
       " 0     willport    nj       23453   \n",
       " 1  keelingstad    al  94189-5965   \n",
       " 2  north daija    de  30997-4476   \n",
       " 3  yasmeenstad    nv       83568   \n",
       " 6  octaviastad    il  45294-0751   \n",
       " \n",
       "                                         name_address  \n",
       " 0  ruthelaverne569glendaislandssuite163willportnj...  \n",
       " 1  marshallcole59944adalineharborapt862keelingsta...  \n",
       " 2  lawsonlilliana36175aminamountapt256northdaijad...  \n",
       " 3   martinekiana188walshflatapt891yasmeenstadnv83568  \n",
       " 6  granvillebenton95496dareruesuite203octaviastad...  )"
      ]
     },
     "execution_count": 275,
     "metadata": {},
     "output_type": "execute_result"
    }
   ],
   "source": [
    "json_data_name_address.shape,csv_file_name_address.head()"
   ]
  },
  {
   "cell_type": "code",
   "execution_count": null,
   "metadata": {
    "collapsed": true
   },
   "outputs": [],
   "source": [
    "# of Doctors matched with name and address"
   ]
  },
  {
   "cell_type": "code",
   "execution_count": 277,
   "metadata": {
    "collapsed": true
   },
   "outputs": [],
   "source": [
    "matched_doctor_name_address = pd.merge( json_data_name_address,csv_file_name_address, on = 'name_address',how='inner')"
   ]
  },
  {
   "cell_type": "code",
   "execution_count": 278,
   "metadata": {},
   "outputs": [
    {
     "data": {
      "text/html": [
       "<div>\n",
       "<style>\n",
       "    .dataframe thead tr:only-child th {\n",
       "        text-align: right;\n",
       "    }\n",
       "\n",
       "    .dataframe thead th {\n",
       "        text-align: left;\n",
       "    }\n",
       "\n",
       "    .dataframe tbody tr th {\n",
       "        vertical-align: top;\n",
       "    }\n",
       "</style>\n",
       "<table border=\"1\" class=\"dataframe\">\n",
       "  <thead>\n",
       "    <tr style=\"text-align: right;\">\n",
       "      <th></th>\n",
       "      <th>first_name_x</th>\n",
       "      <th>last_name_x</th>\n",
       "      <th>npi_x</th>\n",
       "      <th>lat</th>\n",
       "      <th>lon</th>\n",
       "      <th>street_x</th>\n",
       "      <th>street_2_x</th>\n",
       "      <th>city_x</th>\n",
       "      <th>state_x</th>\n",
       "      <th>zip_x</th>\n",
       "      <th>name_address</th>\n",
       "      <th>first_name_y</th>\n",
       "      <th>last_name_y</th>\n",
       "      <th>npi_y</th>\n",
       "      <th>street_y</th>\n",
       "      <th>street_2_y</th>\n",
       "      <th>city_y</th>\n",
       "      <th>state_y</th>\n",
       "      <th>zip_y</th>\n",
       "    </tr>\n",
       "  </thead>\n",
       "  <tbody>\n",
       "    <tr>\n",
       "      <th>0</th>\n",
       "      <td>Marshall</td>\n",
       "      <td>Cole</td>\n",
       "      <td>18233577393219566041</td>\n",
       "      <td>-84.7669879597025</td>\n",
       "      <td>134.0653096213187</td>\n",
       "      <td>59944 Adaline Harbor</td>\n",
       "      <td>Apt. 862</td>\n",
       "      <td>Keelingstad</td>\n",
       "      <td>AL</td>\n",
       "      <td>94189-5965</td>\n",
       "      <td>marshallcole59944adalineharborapt862keelingsta...</td>\n",
       "      <td>Marshall</td>\n",
       "      <td>Cole</td>\n",
       "      <td>18233577393219566041</td>\n",
       "      <td>59944 adaline harbor</td>\n",
       "      <td>apt. 862</td>\n",
       "      <td>keelingstad</td>\n",
       "      <td>al</td>\n",
       "      <td>94189-5965</td>\n",
       "    </tr>\n",
       "    <tr>\n",
       "      <th>1</th>\n",
       "      <td>Lawson</td>\n",
       "      <td>Lilliana</td>\n",
       "      <td>78792788275411915642</td>\n",
       "      <td>-5.6687886642665575</td>\n",
       "      <td>-78.53360129963642</td>\n",
       "      <td>36175 Amina Mount</td>\n",
       "      <td>Apt. 256</td>\n",
       "      <td>North Daija</td>\n",
       "      <td>DE</td>\n",
       "      <td>30997-4476</td>\n",
       "      <td>lawsonlilliana36175aminamountapt256northdaijad...</td>\n",
       "      <td>Lawson</td>\n",
       "      <td>Lilliana</td>\n",
       "      <td>78792788275411915642</td>\n",
       "      <td>36175 amina mount</td>\n",
       "      <td>apt. 256</td>\n",
       "      <td>north daija</td>\n",
       "      <td>de</td>\n",
       "      <td>30997-4476</td>\n",
       "    </tr>\n",
       "    <tr>\n",
       "      <th>2</th>\n",
       "      <td>Martine</td>\n",
       "      <td>Kiana</td>\n",
       "      <td>23583155472740817761</td>\n",
       "      <td>-31.584772592655966</td>\n",
       "      <td>-136.74090970869585</td>\n",
       "      <td>188 Walsh Flat</td>\n",
       "      <td>Apt. 891</td>\n",
       "      <td>Yasmeenstad</td>\n",
       "      <td>NV</td>\n",
       "      <td>83568</td>\n",
       "      <td>martinekiana188walshflatapt891yasmeenstadnv83568</td>\n",
       "      <td>Martine</td>\n",
       "      <td>Kiana</td>\n",
       "      <td>23583155472740817761</td>\n",
       "      <td>188 walsh flat</td>\n",
       "      <td>apt. 891</td>\n",
       "      <td>yasmeenstad</td>\n",
       "      <td>nv</td>\n",
       "      <td>83568</td>\n",
       "    </tr>\n",
       "    <tr>\n",
       "      <th>3</th>\n",
       "      <td>Granville</td>\n",
       "      <td>Benton</td>\n",
       "      <td>17871640342222098849</td>\n",
       "      <td>46.184575751643024</td>\n",
       "      <td>86.26226978060578</td>\n",
       "      <td>95496 Dare Rue</td>\n",
       "      <td>Suite 203</td>\n",
       "      <td>Octaviastad</td>\n",
       "      <td>IL</td>\n",
       "      <td>45294-0751</td>\n",
       "      <td>granvillebenton95496dareruesuite203octaviastad...</td>\n",
       "      <td>Granville</td>\n",
       "      <td>Benton</td>\n",
       "      <td>17871640342222098849</td>\n",
       "      <td>95496 dare rue</td>\n",
       "      <td>suite 203</td>\n",
       "      <td>octaviastad</td>\n",
       "      <td>il</td>\n",
       "      <td>45294-0751</td>\n",
       "    </tr>\n",
       "    <tr>\n",
       "      <th>4</th>\n",
       "      <td>Brenda</td>\n",
       "      <td>Lenna</td>\n",
       "      <td>88137148807320232511</td>\n",
       "      <td>-74.74155611941049</td>\n",
       "      <td>-138.5434541219899</td>\n",
       "      <td>361 Justyn Meadow</td>\n",
       "      <td>Suite 635</td>\n",
       "      <td>Steuberhaven</td>\n",
       "      <td>LA</td>\n",
       "      <td>71148-1931</td>\n",
       "      <td>brendalenna361justynmeadowsuite635steuberhaven...</td>\n",
       "      <td>Brenda</td>\n",
       "      <td>Lenna</td>\n",
       "      <td>88137148807320232511</td>\n",
       "      <td>361 justyn meadow</td>\n",
       "      <td>suite 635</td>\n",
       "      <td>steuberhaven</td>\n",
       "      <td>la</td>\n",
       "      <td>71148-1931</td>\n",
       "    </tr>\n",
       "  </tbody>\n",
       "</table>\n",
       "</div>"
      ],
      "text/plain": [
       "  first_name_x last_name_x                 npi_x                  lat  \\\n",
       "0     Marshall        Cole  18233577393219566041    -84.7669879597025   \n",
       "1       Lawson    Lilliana  78792788275411915642  -5.6687886642665575   \n",
       "2      Martine       Kiana  23583155472740817761  -31.584772592655966   \n",
       "3    Granville      Benton  17871640342222098849   46.184575751643024   \n",
       "4       Brenda       Lenna  88137148807320232511   -74.74155611941049   \n",
       "\n",
       "                   lon              street_x street_2_x        city_x state_x  \\\n",
       "0    134.0653096213187  59944 Adaline Harbor   Apt. 862   Keelingstad      AL   \n",
       "1   -78.53360129963642     36175 Amina Mount   Apt. 256   North Daija      DE   \n",
       "2  -136.74090970869585        188 Walsh Flat   Apt. 891   Yasmeenstad      NV   \n",
       "3    86.26226978060578        95496 Dare Rue  Suite 203   Octaviastad      IL   \n",
       "4   -138.5434541219899     361 Justyn Meadow  Suite 635  Steuberhaven      LA   \n",
       "\n",
       "        zip_x                                       name_address first_name_y  \\\n",
       "0  94189-5965  marshallcole59944adalineharborapt862keelingsta...     Marshall   \n",
       "1  30997-4476  lawsonlilliana36175aminamountapt256northdaijad...       Lawson   \n",
       "2       83568   martinekiana188walshflatapt891yasmeenstadnv83568      Martine   \n",
       "3  45294-0751  granvillebenton95496dareruesuite203octaviastad...    Granville   \n",
       "4  71148-1931  brendalenna361justynmeadowsuite635steuberhaven...       Brenda   \n",
       "\n",
       "  last_name_y                 npi_y              street_y street_2_y  \\\n",
       "0        Cole  18233577393219566041  59944 adaline harbor   apt. 862   \n",
       "1    Lilliana  78792788275411915642     36175 amina mount   apt. 256   \n",
       "2       Kiana  23583155472740817761        188 walsh flat   apt. 891   \n",
       "3      Benton  17871640342222098849        95496 dare rue  suite 203   \n",
       "4       Lenna  88137148807320232511     361 justyn meadow  suite 635   \n",
       "\n",
       "         city_y state_y       zip_y  \n",
       "0   keelingstad      al  94189-5965  \n",
       "1   north daija      de  30997-4476  \n",
       "2   yasmeenstad      nv       83568  \n",
       "3   octaviastad      il  45294-0751  \n",
       "4  steuberhaven      la  71148-1931  "
      ]
     },
     "execution_count": 278,
     "metadata": {},
     "output_type": "execute_result"
    }
   ],
   "source": [
    "matched_doctor_name_address.head()"
   ]
  },
  {
   "cell_type": "code",
   "execution_count": 279,
   "metadata": {},
   "outputs": [
    {
     "data": {
      "text/plain": [
       "(691, 19)"
      ]
     },
     "execution_count": 279,
     "metadata": {},
     "output_type": "execute_result"
    }
   ],
   "source": [
    "matched_doctor_name_address.shape"
   ]
  },
  {
   "cell_type": "code",
   "execution_count": null,
   "metadata": {
    "collapsed": true
   },
   "outputs": [],
   "source": [
    "# of Practice matched with address"
   ]
  },
  {
   "cell_type": "code",
   "execution_count": 282,
   "metadata": {
    "collapsed": true
   },
   "outputs": [],
   "source": [
    "csv_file_address_cleaned=pd.read_csv(CSV_FILEPATH)\n",
    "csv_file_address_cleaned.head()\n",
    "csv_file_address_cleaned.dropna(inplace=True)\n",
    "\n",
    "csv_file_address_cleaned['address'] = csv_file_address_cleaned['street']+ '_' + csv_file_address_cleaned['street_2']+ '_' + csv_file_address_cleaned['city']+ '_' + csv_file_address_cleaned['state']+'_' + csv_file_address_cleaned['zip']\n",
    "csv_file_address_cleaned['address']=csv_file_address_cleaned['address'].apply(lambda x: x.lower())\n",
    "csv_file_address_cleaned['address']=csv_file_address_cleaned['address'].apply(lambda x: regex.sub('', x))\n",
    "csv_file_address_cleaned['address']=csv_file_address_cleaned['address'].apply(lambda x: x.replace(' ', ''))"
   ]
  },
  {
   "cell_type": "code",
   "execution_count": 283,
   "metadata": {},
   "outputs": [
    {
     "data": {
      "text/html": [
       "<div>\n",
       "<style>\n",
       "    .dataframe thead tr:only-child th {\n",
       "        text-align: right;\n",
       "    }\n",
       "\n",
       "    .dataframe thead th {\n",
       "        text-align: left;\n",
       "    }\n",
       "\n",
       "    .dataframe tbody tr th {\n",
       "        vertical-align: top;\n",
       "    }\n",
       "</style>\n",
       "<table border=\"1\" class=\"dataframe\">\n",
       "  <thead>\n",
       "    <tr style=\"text-align: right;\">\n",
       "      <th></th>\n",
       "      <th>first_name</th>\n",
       "      <th>last_name</th>\n",
       "      <th>npi</th>\n",
       "      <th>street</th>\n",
       "      <th>street_2</th>\n",
       "      <th>city</th>\n",
       "      <th>state</th>\n",
       "      <th>zip</th>\n",
       "      <th>address</th>\n",
       "    </tr>\n",
       "  </thead>\n",
       "  <tbody>\n",
       "    <tr>\n",
       "      <th>0</th>\n",
       "      <td>Ruthe</td>\n",
       "      <td>Laverne</td>\n",
       "      <td>44843147983186317848</td>\n",
       "      <td>569 glenda islands</td>\n",
       "      <td>suite 163</td>\n",
       "      <td>willport</td>\n",
       "      <td>nj</td>\n",
       "      <td>23453</td>\n",
       "      <td>569glendaislandssuite163willportnj23453</td>\n",
       "    </tr>\n",
       "    <tr>\n",
       "      <th>1</th>\n",
       "      <td>Marshall</td>\n",
       "      <td>Cole</td>\n",
       "      <td>18233577393219566041</td>\n",
       "      <td>59944 adaline harbor</td>\n",
       "      <td>apt. 862</td>\n",
       "      <td>keelingstad</td>\n",
       "      <td>al</td>\n",
       "      <td>94189-5965</td>\n",
       "      <td>59944adalineharborapt862keelingstadal941895965</td>\n",
       "    </tr>\n",
       "    <tr>\n",
       "      <th>2</th>\n",
       "      <td>Lawson</td>\n",
       "      <td>Lilliana</td>\n",
       "      <td>78792788275411915642</td>\n",
       "      <td>36175 amina mount</td>\n",
       "      <td>apt. 256</td>\n",
       "      <td>north daija</td>\n",
       "      <td>de</td>\n",
       "      <td>30997-4476</td>\n",
       "      <td>36175aminamountapt256northdaijade309974476</td>\n",
       "    </tr>\n",
       "    <tr>\n",
       "      <th>3</th>\n",
       "      <td>Martine</td>\n",
       "      <td>Kiana</td>\n",
       "      <td>23583155472740817761</td>\n",
       "      <td>188 walsh flat</td>\n",
       "      <td>apt. 891</td>\n",
       "      <td>yasmeenstad</td>\n",
       "      <td>nv</td>\n",
       "      <td>83568</td>\n",
       "      <td>188walshflatapt891yasmeenstadnv83568</td>\n",
       "    </tr>\n",
       "    <tr>\n",
       "      <th>6</th>\n",
       "      <td>Granville</td>\n",
       "      <td>Benton</td>\n",
       "      <td>17871640342222098849</td>\n",
       "      <td>95496 dare rue</td>\n",
       "      <td>suite 203</td>\n",
       "      <td>octaviastad</td>\n",
       "      <td>il</td>\n",
       "      <td>45294-0751</td>\n",
       "      <td>95496dareruesuite203octaviastadil452940751</td>\n",
       "    </tr>\n",
       "  </tbody>\n",
       "</table>\n",
       "</div>"
      ],
      "text/plain": [
       "  first_name last_name                   npi                street   street_2  \\\n",
       "0      Ruthe   Laverne  44843147983186317848    569 glenda islands  suite 163   \n",
       "1   Marshall      Cole  18233577393219566041  59944 adaline harbor   apt. 862   \n",
       "2     Lawson  Lilliana  78792788275411915642     36175 amina mount   apt. 256   \n",
       "3    Martine     Kiana  23583155472740817761        188 walsh flat   apt. 891   \n",
       "6  Granville    Benton  17871640342222098849        95496 dare rue  suite 203   \n",
       "\n",
       "          city state         zip  \\\n",
       "0     willport    nj       23453   \n",
       "1  keelingstad    al  94189-5965   \n",
       "2  north daija    de  30997-4476   \n",
       "3  yasmeenstad    nv       83568   \n",
       "6  octaviastad    il  45294-0751   \n",
       "\n",
       "                                          address  \n",
       "0         569glendaislandssuite163willportnj23453  \n",
       "1  59944adalineharborapt862keelingstadal941895965  \n",
       "2      36175aminamountapt256northdaijade309974476  \n",
       "3            188walshflatapt891yasmeenstadnv83568  \n",
       "6      95496dareruesuite203octaviastadil452940751  "
      ]
     },
     "execution_count": 283,
     "metadata": {},
     "output_type": "execute_result"
    }
   ],
   "source": [
    "csv_file_address_cleaned.head()"
   ]
  },
  {
   "cell_type": "code",
   "execution_count": 284,
   "metadata": {
    "collapsed": true
   },
   "outputs": [],
   "source": [
    "json_data_address=new_json_data\n",
    "json_data_address['address'] = json_data_address['street']+ '_' + json_data_address['street_2']+ '_' + json_data_address['city']+ '_' + json_data_address['state']+'_' + json_data_address['zip']\n",
    "json_data_address['address']=(json_data_address['address'].apply(lambda x: x.lower()))\n",
    "json_data_address['address']=json_data_address['address'].apply(lambda x: regex.sub('', x))\n",
    "json_data_address['address']=json_data_address['address'].apply(lambda x: x.replace(' ', ''))\n"
   ]
  },
  {
   "cell_type": "code",
   "execution_count": 289,
   "metadata": {
    "collapsed": true
   },
   "outputs": [],
   "source": [
    "matched_doctor_name_address = pd.merge( json_data_address,csv_file_name_address, on = 'name_address',how='inner')"
   ]
  },
  {
   "cell_type": "code",
   "execution_count": 290,
   "metadata": {},
   "outputs": [
    {
     "data": {
      "text/plain": [
       "13820"
      ]
     },
     "execution_count": 290,
     "metadata": {},
     "output_type": "execute_result"
    }
   ],
   "source": [
    "matched_doctor_name_address.size"
   ]
  },
  {
   "cell_type": "code",
   "execution_count": 291,
   "metadata": {},
   "outputs": [
    {
     "data": {
      "text/plain": [
       "(691, 20)"
      ]
     },
     "execution_count": 291,
     "metadata": {},
     "output_type": "execute_result"
    }
   ],
   "source": [
    "matched_doctor_name_address.shape"
   ]
  },
  {
   "cell_type": "code",
   "execution_count": null,
   "metadata": {
    "collapsed": true
   },
   "outputs": [],
   "source": [
    "###########end"
   ]
  },
  {
   "cell_type": "code",
   "execution_count": null,
   "metadata": {
    "collapsed": true
   },
   "outputs": [],
   "source": []
  },
  {
   "cell_type": "code",
   "execution_count": null,
   "metadata": {
    "collapsed": true
   },
   "outputs": [],
   "source": []
  },
  {
   "cell_type": "code",
   "execution_count": null,
   "metadata": {
    "collapsed": true
   },
   "outputs": [],
   "source": []
  },
  {
   "cell_type": "code",
   "execution_count": null,
   "metadata": {
    "collapsed": true
   },
   "outputs": [],
   "source": []
  },
  {
   "cell_type": "code",
   "execution_count": null,
   "metadata": {
    "collapsed": true
   },
   "outputs": [],
   "source": []
  },
  {
   "cell_type": "code",
   "execution_count": 133,
   "metadata": {},
   "outputs": [
    {
     "data": {
      "text/html": [
       "<div>\n",
       "<style>\n",
       "    .dataframe thead tr:only-child th {\n",
       "        text-align: right;\n",
       "    }\n",
       "\n",
       "    .dataframe thead th {\n",
       "        text-align: left;\n",
       "    }\n",
       "\n",
       "    .dataframe tbody tr th {\n",
       "        vertical-align: top;\n",
       "    }\n",
       "</style>\n",
       "<table border=\"1\" class=\"dataframe\">\n",
       "  <thead>\n",
       "    <tr style=\"text-align: right;\">\n",
       "      <th></th>\n",
       "      <th>npi</th>\n",
       "    </tr>\n",
       "  </thead>\n",
       "  <tbody>\n",
       "    <tr>\n",
       "      <th>0</th>\n",
       "      <td>77258317412194649714</td>\n",
       "    </tr>\n",
       "    <tr>\n",
       "      <th>1</th>\n",
       "      <td>61265046217225477205</td>\n",
       "    </tr>\n",
       "    <tr>\n",
       "      <th>2</th>\n",
       "      <td>72859758079289784411</td>\n",
       "    </tr>\n",
       "    <tr>\n",
       "      <th>3</th>\n",
       "      <td>48589822023337944548</td>\n",
       "    </tr>\n",
       "    <tr>\n",
       "      <th>4</th>\n",
       "      <td>45117481523237816620</td>\n",
       "    </tr>\n",
       "  </tbody>\n",
       "</table>\n",
       "</div>"
      ],
      "text/plain": [
       "                    npi\n",
       "0  77258317412194649714\n",
       "1  61265046217225477205\n",
       "2  72859758079289784411\n",
       "3  48589822023337944548\n",
       "4  45117481523237816620"
      ]
     },
     "execution_count": 133,
     "metadata": {},
     "output_type": "execute_result"
    }
   ],
   "source": [
    "doctor_npi.head()"
   ]
  },
  {
   "cell_type": "code",
   "execution_count": 152,
   "metadata": {
    "collapsed": true
   },
   "outputs": [],
   "source": [
    "merged_df = pd.merge(new_json_data, csv_file, on=['npi'], how='left')\n",
    "\n"
   ]
  },
  {
   "cell_type": "code",
   "execution_count": 154,
   "metadata": {
    "collapsed": true
   },
   "outputs": [],
   "source": [
    "merged_df=merged_df.groupby(['npi'])['npi'].agg(['count'])"
   ]
  },
  {
   "cell_type": "code",
   "execution_count": 159,
   "metadata": {
    "collapsed": true
   },
   "outputs": [],
   "source": [
    "df3 = pd.io.json.json_normalize(json_file.to_dict('records'))"
   ]
  },
  {
   "cell_type": "markdown",
   "metadata": {},
   "source": [
    "df3.size"
   ]
  },
  {
   "cell_type": "code",
   "execution_count": 37,
   "metadata": {},
   "outputs": [
    {
     "data": {
      "text/html": [
       "<div>\n",
       "<style>\n",
       "    .dataframe thead tr:only-child th {\n",
       "        text-align: right;\n",
       "    }\n",
       "\n",
       "    .dataframe thead th {\n",
       "        text-align: left;\n",
       "    }\n",
       "\n",
       "    .dataframe tbody tr th {\n",
       "        vertical-align: top;\n",
       "    }\n",
       "</style>\n",
       "<table border=\"1\" class=\"dataframe\">\n",
       "  <thead>\n",
       "    <tr style=\"text-align: right;\">\n",
       "      <th></th>\n",
       "      <th>column_name</th>\n",
       "      <th>missing_count</th>\n",
       "    </tr>\n",
       "  </thead>\n",
       "  <tbody>\n",
       "  </tbody>\n",
       "</table>\n",
       "</div>"
      ],
      "text/plain": [
       "Empty DataFrame\n",
       "Columns: [column_name, missing_count]\n",
       "Index: []"
      ]
     },
     "execution_count": 37,
     "metadata": {},
     "output_type": "execute_result"
    }
   ],
   "source": [
    "missing_df = new_json_data.isnull().sum(axis=0).reset_index()\n",
    "missing_df.columns = ['column_name', 'missing_count']\n",
    "missing_df = missing_df.loc[missing_df['missing_count']>0]\n",
    "missing_df"
   ]
  },
  {
   "cell_type": "code",
   "execution_count": 160,
   "metadata": {},
   "outputs": [
    {
     "data": {
      "text/plain": [
       "44924"
      ]
     },
     "execution_count": 160,
     "metadata": {},
     "output_type": "execute_result"
    }
   ],
   "source": [
    "df3.size"
   ]
  },
  {
   "cell_type": "code",
   "execution_count": 82,
   "metadata": {
    "collapsed": true
   },
   "outputs": [],
   "source": [
    "merged_df = pd.merge( new_json_data,csv_file, on=['npi'], how='inner')"
   ]
  },
  {
   "cell_type": "code",
   "execution_count": 74,
   "metadata": {},
   "outputs": [
    {
     "data": {
      "text/plain": [
       "864"
      ]
     },
     "execution_count": 74,
     "metadata": {},
     "output_type": "execute_result"
    }
   ],
   "source": [
    "pd.merge( new_json_data,csv_file, on=['npi'], how='inner').npi.unique().size"
   ]
  },
  {
   "cell_type": "code",
   "execution_count": 111,
   "metadata": {},
   "outputs": [
    {
     "ename": "KeyError",
     "evalue": "'Column not found: count'",
     "output_type": "error",
     "traceback": [
      "\u001b[1;31m---------------------------------------------------------------------------\u001b[0m",
      "\u001b[1;31mKeyError\u001b[0m                                  Traceback (most recent call last)",
      "\u001b[1;32m<ipython-input-111-7ede508e7e5c>\u001b[0m in \u001b[0;36m<module>\u001b[1;34m()\u001b[0m\n\u001b[1;32m----> 1\u001b[1;33m \u001b[0mdf\u001b[0m \u001b[1;33m=\u001b[0m \u001b[0mnew_json_data\u001b[0m\u001b[1;33m.\u001b[0m\u001b[0mgroupby\u001b[0m\u001b[1;33m(\u001b[0m\u001b[1;34m'npi'\u001b[0m\u001b[1;33m)\u001b[0m\u001b[1;33m[\u001b[0m\u001b[1;34m'count'\u001b[0m\u001b[1;33m]\u001b[0m\u001b[1;33m\u001b[0m\u001b[0m\n\u001b[0m",
      "\u001b[1;32m~\\Google Drive\\Programs\\Python_Programs\\better_doctor\\env_better_doctor\\lib\\site-packages\\pandas\\core\\base.py\u001b[0m in \u001b[0;36m__getitem__\u001b[1;34m(self, key)\u001b[0m\n\u001b[0;32m    352\u001b[0m         \u001b[1;32melse\u001b[0m\u001b[1;33m:\u001b[0m\u001b[1;33m\u001b[0m\u001b[0m\n\u001b[0;32m    353\u001b[0m             \u001b[1;32mif\u001b[0m \u001b[0mkey\u001b[0m \u001b[1;32mnot\u001b[0m \u001b[1;32min\u001b[0m \u001b[0mself\u001b[0m\u001b[1;33m.\u001b[0m\u001b[0mobj\u001b[0m\u001b[1;33m:\u001b[0m\u001b[1;33m\u001b[0m\u001b[0m\n\u001b[1;32m--> 354\u001b[1;33m                 \u001b[1;32mraise\u001b[0m \u001b[0mKeyError\u001b[0m\u001b[1;33m(\u001b[0m\u001b[1;34m\"Column not found: %s\"\u001b[0m \u001b[1;33m%\u001b[0m \u001b[0mkey\u001b[0m\u001b[1;33m)\u001b[0m\u001b[1;33m\u001b[0m\u001b[0m\n\u001b[0m\u001b[0;32m    355\u001b[0m             \u001b[1;32mreturn\u001b[0m \u001b[0mself\u001b[0m\u001b[1;33m.\u001b[0m\u001b[0m_gotitem\u001b[0m\u001b[1;33m(\u001b[0m\u001b[0mkey\u001b[0m\u001b[1;33m,\u001b[0m \u001b[0mndim\u001b[0m\u001b[1;33m=\u001b[0m\u001b[1;36m1\u001b[0m\u001b[1;33m)\u001b[0m\u001b[1;33m\u001b[0m\u001b[0m\n\u001b[0;32m    356\u001b[0m \u001b[1;33m\u001b[0m\u001b[0m\n",
      "\u001b[1;31mKeyError\u001b[0m: 'Column not found: count'"
     ]
    }
   ],
   "source": [
    "df = new_json_data.groupby('npi')['count']"
   ]
  },
  {
   "cell_type": "code",
   "execution_count": 109,
   "metadata": {},
   "outputs": [
    {
     "name": "stdout",
     "output_type": "stream",
     "text": [
      "<pandas.core.groupby.DataFrameGroupBy object at 0x00000201238DADD8>\n"
     ]
    }
   ],
   "source": [
    "print(df)"
   ]
  },
  {
   "cell_type": "code",
   "execution_count": 52,
   "metadata": {},
   "outputs": [
    {
     "data": {
      "text/plain": [
       "(1718, 17)"
      ]
     },
     "execution_count": 52,
     "metadata": {},
     "output_type": "execute_result"
    }
   ],
   "source": []
  },
  {
   "cell_type": "code",
   "execution_count": null,
   "metadata": {
    "collapsed": true
   },
   "outputs": [],
   "source": []
  }
 ],
 "metadata": {
  "kernelspec": {
   "display_name": "Python 3",
   "language": "python",
   "name": "python3"
  },
  "language_info": {
   "codemirror_mode": {
    "name": "ipython",
    "version": 3
   },
   "file_extension": ".py",
   "mimetype": "text/x-python",
   "name": "python",
   "nbconvert_exporter": "python",
   "pygments_lexer": "ipython3",
   "version": "3.5.4"
  }
 },
 "nbformat": 4,
 "nbformat_minor": 2
}
