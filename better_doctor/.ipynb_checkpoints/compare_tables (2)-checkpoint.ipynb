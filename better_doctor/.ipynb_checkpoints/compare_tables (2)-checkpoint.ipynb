{
 "cells": [
  {
   "cell_type": "code",
   "execution_count": 250,
   "metadata": {},
   "outputs": [
    {
     "data": {
      "text/html": [
       "<style>.container { width:80% !important; }</style>"
      ],
      "text/plain": [
       "<IPython.core.display.HTML object>"
      ]
     },
     "metadata": {},
     "output_type": "display_data"
    }
   ],
   "source": [
    "import pandas as pd\n",
    "import numpy as np\n",
    "from IPython.display import HTML, display\n",
    "display(HTML(\"<style>.container { width:80% !important; }</style>\"))"
   ]
  },
  {
   "cell_type": "code",
   "execution_count": 4,
   "metadata": {},
   "outputs": [
    {
     "name": "stdout",
     "output_type": "stream",
     "text": [
      "compare_tables.ipynb match_file.csv       source_data.json\r\n"
     ]
    }
   ],
   "source": [
    "!ls"
   ]
  },
  {
   "cell_type": "markdown",
   "metadata": {},
   "source": [
    "# 1) Load csv"
   ]
  },
  {
   "cell_type": "code",
   "execution_count": 6,
   "metadata": {},
   "outputs": [
    {
     "name": "stdout",
     "output_type": "stream",
     "text": [
      "(1265, 8)\n"
     ]
    },
    {
     "data": {
      "text/html": [
       "<div>\n",
       "<style>\n",
       "    .dataframe thead tr:only-child th {\n",
       "        text-align: right;\n",
       "    }\n",
       "\n",
       "    .dataframe thead th {\n",
       "        text-align: left;\n",
       "    }\n",
       "\n",
       "    .dataframe tbody tr th {\n",
       "        vertical-align: top;\n",
       "    }\n",
       "</style>\n",
       "<table border=\"1\" class=\"dataframe\">\n",
       "  <thead>\n",
       "    <tr style=\"text-align: right;\">\n",
       "      <th></th>\n",
       "      <th>first_name</th>\n",
       "      <th>last_name</th>\n",
       "      <th>npi</th>\n",
       "      <th>street</th>\n",
       "      <th>street_2</th>\n",
       "      <th>city</th>\n",
       "      <th>state</th>\n",
       "      <th>zip</th>\n",
       "    </tr>\n",
       "  </thead>\n",
       "  <tbody>\n",
       "    <tr>\n",
       "      <th>0</th>\n",
       "      <td>Ruthe</td>\n",
       "      <td>Laverne</td>\n",
       "      <td>44843147983186317848</td>\n",
       "      <td>569 glenda islands</td>\n",
       "      <td>suite 163</td>\n",
       "      <td>willport</td>\n",
       "      <td>nj</td>\n",
       "      <td>23453</td>\n",
       "    </tr>\n",
       "    <tr>\n",
       "      <th>1</th>\n",
       "      <td>Marshall</td>\n",
       "      <td>Cole</td>\n",
       "      <td>18233577393219566041</td>\n",
       "      <td>59944 adaline harbor</td>\n",
       "      <td>apt. 862</td>\n",
       "      <td>keelingstad</td>\n",
       "      <td>al</td>\n",
       "      <td>94189-5965</td>\n",
       "    </tr>\n",
       "  </tbody>\n",
       "</table>\n",
       "</div>"
      ],
      "text/plain": [
       "  first_name last_name                   npi                street   street_2  \\\n",
       "0      Ruthe   Laverne  44843147983186317848    569 glenda islands  suite 163   \n",
       "1   Marshall      Cole  18233577393219566041  59944 adaline harbor   apt. 862   \n",
       "\n",
       "          city state         zip  \n",
       "0     willport    nj       23453  \n",
       "1  keelingstad    al  94189-5965  "
      ]
     },
     "execution_count": 6,
     "metadata": {},
     "output_type": "execute_result"
    }
   ],
   "source": [
    "csv_data = pd.read_csv('match_file.csv')\n",
    "print(csv_data.shape)\n",
    "csv_data.head(2)"
   ]
  },
  {
   "cell_type": "code",
   "execution_count": 78,
   "metadata": {},
   "outputs": [],
   "source": [
    "csv_data['unique_id'] = csv_data['first_name'] +'_' + csv_data['last_name'] + '_' + csv_data['npi']"
   ]
  },
  {
   "cell_type": "code",
   "execution_count": 80,
   "metadata": {},
   "outputs": [
    {
     "data": {
      "text/plain": [
       "(1265, 9)"
      ]
     },
     "execution_count": 80,
     "metadata": {},
     "output_type": "execute_result"
    }
   ],
   "source": [
    "csv_data.shape"
   ]
  },
  {
   "cell_type": "markdown",
   "metadata": {},
   "source": [
    "# 2) Load Json"
   ]
  },
  {
   "cell_type": "code",
   "execution_count": 218,
   "metadata": {},
   "outputs": [],
   "source": [
    "fname_list = []\n",
    "lname_list = []\n",
    "npi_list = []\n",
    "\n",
    "lat_list = []\n",
    "lon_list = []\n",
    "street_list = []\n",
    "street_2_list = []\n",
    "city_list = []\n",
    "state_list = []\n",
    "zip_list = []\n",
    "\n",
    "i = 1\n",
    "with open('source_data.json', 'r+') as infile:\n",
    "    for line in infile:\n",
    "        line = line.replace(\"\\\\\", r\"\\\\\")\n",
    "        line = json.loads(line)\n",
    "        \n",
    "        for index, elem in enumerate(line['practices']):\n",
    "        \n",
    "            fname_list.append(line['doctor']['first_name'])\n",
    "            lname_list.append(line['doctor']['last_name'])\n",
    "            npi_list.append(line['doctor']['npi'])\n",
    "\n",
    "            lat_list.append(line['practices'][index]['lat'])\n",
    "            lon_list.append(line['practices'][index]['lon'])\n",
    "            street_list.append(line['practices'][index]['street'])\n",
    "            street_2_list.append(line['practices'][index]['street_2'])\n",
    "            city_list.append(line['practices'][index]['city'])\n",
    "            state_list.append(line['practices'][index]['state'])\n",
    "            zip_list.append(line['practices'][index]['zip'])\n",
    "        '''\n",
    "        i = i + 1\n",
    "        if i > 3:\n",
    "            break\n",
    "        '''"
   ]
  },
  {
   "cell_type": "code",
   "execution_count": 219,
   "metadata": {},
   "outputs": [
    {
     "data": {
      "text/plain": [
       "(22443, 22443, 22443, 22443, 22443, 22443, 22443)"
      ]
     },
     "execution_count": 219,
     "metadata": {},
     "output_type": "execute_result"
    }
   ],
   "source": [
    "len(fname_list), len(lname_list), len(street_list), len(street_2_list), len(city_list), \\\n",
    "len(state_list), len(zip_list)"
   ]
  },
  {
   "cell_type": "code",
   "execution_count": 221,
   "metadata": {},
   "outputs": [],
   "source": [
    "new_json_data = pd.DataFrame()\n",
    "new_json_data['first_name'] = fname_list\n",
    "new_json_data['last_name'] = lname_list\n",
    "new_json_data['npi'] = npi_list\n",
    "\n",
    "new_json_data['lat'] = lat_list\n",
    "new_json_data['lon'] = lon_list\n",
    "new_json_data['street'] = street_list\n",
    "new_json_data['street_2'] = street_2_list\n",
    "new_json_data['city'] = city_list\n",
    "new_json_data['state'] = state_list\n",
    "new_json_data['zip'] = zip_list"
   ]
  },
  {
   "cell_type": "code",
   "execution_count": 222,
   "metadata": {},
   "outputs": [
    {
     "data": {
      "text/html": [
       "<div>\n",
       "<style>\n",
       "    .dataframe thead tr:only-child th {\n",
       "        text-align: right;\n",
       "    }\n",
       "\n",
       "    .dataframe thead th {\n",
       "        text-align: left;\n",
       "    }\n",
       "\n",
       "    .dataframe tbody tr th {\n",
       "        vertical-align: top;\n",
       "    }\n",
       "</style>\n",
       "<table border=\"1\" class=\"dataframe\">\n",
       "  <thead>\n",
       "    <tr style=\"text-align: right;\">\n",
       "      <th></th>\n",
       "      <th>first_name</th>\n",
       "      <th>last_name</th>\n",
       "      <th>npi</th>\n",
       "      <th>lat</th>\n",
       "      <th>lon</th>\n",
       "      <th>street</th>\n",
       "      <th>street_2</th>\n",
       "      <th>city</th>\n",
       "      <th>state</th>\n",
       "      <th>zip</th>\n",
       "    </tr>\n",
       "  </thead>\n",
       "  <tbody>\n",
       "    <tr>\n",
       "      <th>0</th>\n",
       "      <td>Dean</td>\n",
       "      <td>Israel</td>\n",
       "      <td>85103080143784778415</td>\n",
       "      <td>-79.8757664338564</td>\n",
       "      <td>84.31253504872467</td>\n",
       "      <td>271 Annabelle Fort</td>\n",
       "      <td>Apt. 404</td>\n",
       "      <td>Port Demetris</td>\n",
       "      <td>LA</td>\n",
       "      <td>53549</td>\n",
       "    </tr>\n",
       "    <tr>\n",
       "      <th>1</th>\n",
       "      <td>Quinton</td>\n",
       "      <td>Mollie</td>\n",
       "      <td>36233383542350521233</td>\n",
       "      <td>81.37417480720865</td>\n",
       "      <td>-95.33450729432164</td>\n",
       "      <td>8496 Kennedi Inlet</td>\n",
       "      <td>Suite 815</td>\n",
       "      <td>Nealville</td>\n",
       "      <td>OR</td>\n",
       "      <td>52665-6811</td>\n",
       "    </tr>\n",
       "    <tr>\n",
       "      <th>2</th>\n",
       "      <td>Quinton</td>\n",
       "      <td>Mollie</td>\n",
       "      <td>36233383542350521233</td>\n",
       "      <td>69.84837521604314</td>\n",
       "      <td>87.36942972635728</td>\n",
       "      <td>29483 Nader Wall</td>\n",
       "      <td>Apt. 748</td>\n",
       "      <td>Rashadborough</td>\n",
       "      <td>UT</td>\n",
       "      <td>46006-3437</td>\n",
       "    </tr>\n",
       "    <tr>\n",
       "      <th>3</th>\n",
       "      <td>Quinton</td>\n",
       "      <td>Mollie</td>\n",
       "      <td>36233383542350521233</td>\n",
       "      <td>84.90377842497296</td>\n",
       "      <td>177.28706015725533</td>\n",
       "      <td>2122 Wintheiser Valleys</td>\n",
       "      <td>Suite 855</td>\n",
       "      <td>South Daronland</td>\n",
       "      <td>AK</td>\n",
       "      <td>99372</td>\n",
       "    </tr>\n",
       "    <tr>\n",
       "      <th>4</th>\n",
       "      <td>Vincent</td>\n",
       "      <td>Abbie</td>\n",
       "      <td>68951826121607537145</td>\n",
       "      <td>52.12502086274685</td>\n",
       "      <td>109.12414094328233</td>\n",
       "      <td>210 Walsh Island</td>\n",
       "      <td>Suite 839</td>\n",
       "      <td>West Lonnieberg</td>\n",
       "      <td>GA</td>\n",
       "      <td>59104</td>\n",
       "    </tr>\n",
       "  </tbody>\n",
       "</table>\n",
       "</div>"
      ],
      "text/plain": [
       "  first_name last_name                   npi                lat  \\\n",
       "0       Dean    Israel  85103080143784778415  -79.8757664338564   \n",
       "1    Quinton    Mollie  36233383542350521233  81.37417480720865   \n",
       "2    Quinton    Mollie  36233383542350521233  69.84837521604314   \n",
       "3    Quinton    Mollie  36233383542350521233  84.90377842497296   \n",
       "4    Vincent     Abbie  68951826121607537145  52.12502086274685   \n",
       "\n",
       "                  lon                   street   street_2             city  \\\n",
       "0   84.31253504872467       271 Annabelle Fort   Apt. 404    Port Demetris   \n",
       "1  -95.33450729432164       8496 Kennedi Inlet  Suite 815        Nealville   \n",
       "2   87.36942972635728         29483 Nader Wall   Apt. 748    Rashadborough   \n",
       "3  177.28706015725533  2122 Wintheiser Valleys  Suite 855  South Daronland   \n",
       "4  109.12414094328233         210 Walsh Island  Suite 839  West Lonnieberg   \n",
       "\n",
       "  state         zip  \n",
       "0    LA       53549  \n",
       "1    OR  52665-6811  \n",
       "2    UT  46006-3437  \n",
       "3    AK       99372  \n",
       "4    GA       59104  "
      ]
     },
     "execution_count": 222,
     "metadata": {},
     "output_type": "execute_result"
    }
   ],
   "source": [
    "new_json_data.head()"
   ]
  },
  {
   "cell_type": "code",
   "execution_count": 224,
   "metadata": {},
   "outputs": [
    {
     "data": {
      "text/plain": [
       "11881194864178761227    3\n",
       "34807296185436331893    3\n",
       "29272298666807261020    3\n",
       "Name: npi, dtype: int64"
      ]
     },
     "execution_count": 224,
     "metadata": {},
     "output_type": "execute_result"
    }
   ],
   "source": [
    "new_json_data.npi.value_counts().head(3)"
   ]
  },
  {
   "cell_type": "code",
   "execution_count": 227,
   "metadata": {},
   "outputs": [
    {
     "data": {
      "text/html": [
       "<div>\n",
       "<style>\n",
       "    .dataframe thead tr:only-child th {\n",
       "        text-align: right;\n",
       "    }\n",
       "\n",
       "    .dataframe thead th {\n",
       "        text-align: left;\n",
       "    }\n",
       "\n",
       "    .dataframe tbody tr th {\n",
       "        vertical-align: top;\n",
       "    }\n",
       "</style>\n",
       "<table border=\"1\" class=\"dataframe\">\n",
       "  <thead>\n",
       "    <tr style=\"text-align: right;\">\n",
       "      <th></th>\n",
       "      <th></th>\n",
       "      <th>street</th>\n",
       "    </tr>\n",
       "    <tr>\n",
       "      <th>npi</th>\n",
       "      <th>first_name</th>\n",
       "      <th></th>\n",
       "    </tr>\n",
       "  </thead>\n",
       "  <tbody>\n",
       "    <tr>\n",
       "      <th>00062909005638231593</th>\n",
       "      <th>Harrison</th>\n",
       "      <td>3</td>\n",
       "    </tr>\n",
       "    <tr>\n",
       "      <th>00134083762165487233</th>\n",
       "      <th>Isidro</th>\n",
       "      <td>3</td>\n",
       "    </tr>\n",
       "    <tr>\n",
       "      <th>00137584534536575306</th>\n",
       "      <th>Ella</th>\n",
       "      <td>1</td>\n",
       "    </tr>\n",
       "    <tr>\n",
       "      <th>00144633524487783185</th>\n",
       "      <th>Robin</th>\n",
       "      <td>3</td>\n",
       "    </tr>\n",
       "    <tr>\n",
       "      <th>00145137149169747714</th>\n",
       "      <th>Domenick</th>\n",
       "      <td>2</td>\n",
       "    </tr>\n",
       "  </tbody>\n",
       "</table>\n",
       "</div>"
      ],
      "text/plain": [
       "                                 street\n",
       "npi                  first_name        \n",
       "00062909005638231593 Harrison         3\n",
       "00134083762165487233 Isidro           3\n",
       "00137584534536575306 Ella             1\n",
       "00144633524487783185 Robin            3\n",
       "00145137149169747714 Domenick         2"
      ]
     },
     "execution_count": 227,
     "metadata": {},
     "output_type": "execute_result"
    }
   ],
   "source": [
    "new_json_data.groupby(['npi', 'first_name']).agg({'street' : 'nunique'}).head()#.sort_values(by='street', ascending = False)"
   ]
  },
  {
   "cell_type": "markdown",
   "metadata": {},
   "source": [
    "# 3) Merge"
   ]
  },
  {
   "cell_type": "code",
   "execution_count": 229,
   "metadata": {},
   "outputs": [
    {
     "data": {
      "text/html": [
       "<div>\n",
       "<style>\n",
       "    .dataframe thead tr:only-child th {\n",
       "        text-align: right;\n",
       "    }\n",
       "\n",
       "    .dataframe thead th {\n",
       "        text-align: left;\n",
       "    }\n",
       "\n",
       "    .dataframe tbody tr th {\n",
       "        vertical-align: top;\n",
       "    }\n",
       "</style>\n",
       "<table border=\"1\" class=\"dataframe\">\n",
       "  <thead>\n",
       "    <tr style=\"text-align: right;\">\n",
       "      <th></th>\n",
       "      <th>first_name</th>\n",
       "      <th>last_name</th>\n",
       "      <th>npi</th>\n",
       "      <th>street</th>\n",
       "      <th>street_2</th>\n",
       "      <th>city</th>\n",
       "      <th>state</th>\n",
       "      <th>zip</th>\n",
       "      <th>unique_id</th>\n",
       "    </tr>\n",
       "  </thead>\n",
       "  <tbody>\n",
       "    <tr>\n",
       "      <th>0</th>\n",
       "      <td>Ruthe</td>\n",
       "      <td>Laverne</td>\n",
       "      <td>44843147983186317848</td>\n",
       "      <td>569 glenda islands</td>\n",
       "      <td>suite 163</td>\n",
       "      <td>willport</td>\n",
       "      <td>nj</td>\n",
       "      <td>23453</td>\n",
       "      <td>Ruthe_Laverne_44843147983186317848</td>\n",
       "    </tr>\n",
       "    <tr>\n",
       "      <th>1</th>\n",
       "      <td>Marshall</td>\n",
       "      <td>Cole</td>\n",
       "      <td>18233577393219566041</td>\n",
       "      <td>59944 adaline harbor</td>\n",
       "      <td>apt. 862</td>\n",
       "      <td>keelingstad</td>\n",
       "      <td>al</td>\n",
       "      <td>94189-5965</td>\n",
       "      <td>Marshall_Cole_18233577393219566041</td>\n",
       "    </tr>\n",
       "  </tbody>\n",
       "</table>\n",
       "</div>"
      ],
      "text/plain": [
       "  first_name last_name                   npi                street   street_2  \\\n",
       "0      Ruthe   Laverne  44843147983186317848    569 glenda islands  suite 163   \n",
       "1   Marshall      Cole  18233577393219566041  59944 adaline harbor   apt. 862   \n",
       "\n",
       "          city state         zip                           unique_id  \n",
       "0     willport    nj       23453  Ruthe_Laverne_44843147983186317848  \n",
       "1  keelingstad    al  94189-5965  Marshall_Cole_18233577393219566041  "
      ]
     },
     "execution_count": 229,
     "metadata": {},
     "output_type": "execute_result"
    }
   ],
   "source": [
    "csv_data.head(2)"
   ]
  },
  {
   "cell_type": "code",
   "execution_count": 228,
   "metadata": {},
   "outputs": [
    {
     "data": {
      "text/html": [
       "<div>\n",
       "<style>\n",
       "    .dataframe thead tr:only-child th {\n",
       "        text-align: right;\n",
       "    }\n",
       "\n",
       "    .dataframe thead th {\n",
       "        text-align: left;\n",
       "    }\n",
       "\n",
       "    .dataframe tbody tr th {\n",
       "        vertical-align: top;\n",
       "    }\n",
       "</style>\n",
       "<table border=\"1\" class=\"dataframe\">\n",
       "  <thead>\n",
       "    <tr style=\"text-align: right;\">\n",
       "      <th></th>\n",
       "      <th>first_name</th>\n",
       "      <th>last_name</th>\n",
       "      <th>npi</th>\n",
       "      <th>lat</th>\n",
       "      <th>lon</th>\n",
       "      <th>street</th>\n",
       "      <th>street_2</th>\n",
       "      <th>city</th>\n",
       "      <th>state</th>\n",
       "      <th>zip</th>\n",
       "    </tr>\n",
       "  </thead>\n",
       "  <tbody>\n",
       "    <tr>\n",
       "      <th>0</th>\n",
       "      <td>Dean</td>\n",
       "      <td>Israel</td>\n",
       "      <td>85103080143784778415</td>\n",
       "      <td>-79.8757664338564</td>\n",
       "      <td>84.31253504872467</td>\n",
       "      <td>271 Annabelle Fort</td>\n",
       "      <td>Apt. 404</td>\n",
       "      <td>Port Demetris</td>\n",
       "      <td>LA</td>\n",
       "      <td>53549</td>\n",
       "    </tr>\n",
       "    <tr>\n",
       "      <th>1</th>\n",
       "      <td>Quinton</td>\n",
       "      <td>Mollie</td>\n",
       "      <td>36233383542350521233</td>\n",
       "      <td>81.37417480720865</td>\n",
       "      <td>-95.33450729432164</td>\n",
       "      <td>8496 Kennedi Inlet</td>\n",
       "      <td>Suite 815</td>\n",
       "      <td>Nealville</td>\n",
       "      <td>OR</td>\n",
       "      <td>52665-6811</td>\n",
       "    </tr>\n",
       "  </tbody>\n",
       "</table>\n",
       "</div>"
      ],
      "text/plain": [
       "  first_name last_name                   npi                lat  \\\n",
       "0       Dean    Israel  85103080143784778415  -79.8757664338564   \n",
       "1    Quinton    Mollie  36233383542350521233  81.37417480720865   \n",
       "\n",
       "                  lon              street   street_2           city state  \\\n",
       "0   84.31253504872467  271 Annabelle Fort   Apt. 404  Port Demetris    LA   \n",
       "1  -95.33450729432164  8496 Kennedi Inlet  Suite 815      Nealville    OR   \n",
       "\n",
       "          zip  \n",
       "0       53549  \n",
       "1  52665-6811  "
      ]
     },
     "execution_count": 228,
     "metadata": {},
     "output_type": "execute_result"
    }
   ],
   "source": [
    "new_json_data.head(2)"
   ]
  },
  {
   "cell_type": "code",
   "execution_count": null,
   "metadata": {
    "collapsed": true
   },
   "outputs": [],
   "source": [
    "#Output should have the following at a minimum\n",
    "# of total documents scanned\n",
    "# of Doctors matched with NPI\n",
    "# of Doctors matched with name and address\n",
    "# of Practices matched with NPI\n",
    "# of Practice matched with address\n",
    "# of documents that could not be matched"
   ]
  },
  {
   "cell_type": "markdown",
   "metadata": {},
   "source": [
    "# 4) Numbers"
   ]
  },
  {
   "cell_type": "markdown",
   "metadata": {},
   "source": [
    "## 1) Total Number documents scanned : csv=1265, json=22443"
   ]
  },
  {
   "cell_type": "code",
   "execution_count": 255,
   "metadata": {},
   "outputs": [
    {
     "data": {
      "text/plain": [
       "((1265, 9), (22443, 10))"
      ]
     },
     "execution_count": 255,
     "metadata": {},
     "output_type": "execute_result"
    }
   ],
   "source": [
    "csv_data.shape, new_json_data.shape"
   ]
  },
  {
   "cell_type": "markdown",
   "metadata": {},
   "source": [
    "## 2) Total Doctors matched npi : 765"
   ]
  },
  {
   "cell_type": "code",
   "execution_count": 262,
   "metadata": {},
   "outputs": [
    {
     "name": "stdout",
     "output_type": "stream",
     "text": [
      "(1718, 18)\n"
     ]
    },
    {
     "data": {
      "text/html": [
       "<div>\n",
       "<style>\n",
       "    .dataframe thead tr:only-child th {\n",
       "        text-align: right;\n",
       "    }\n",
       "\n",
       "    .dataframe thead th {\n",
       "        text-align: left;\n",
       "    }\n",
       "\n",
       "    .dataframe tbody tr th {\n",
       "        vertical-align: top;\n",
       "    }\n",
       "</style>\n",
       "<table border=\"1\" class=\"dataframe\">\n",
       "  <thead>\n",
       "    <tr style=\"text-align: right;\">\n",
       "      <th></th>\n",
       "      <th>first_name_x</th>\n",
       "      <th>last_name_x</th>\n",
       "      <th>npi</th>\n",
       "      <th>street_x</th>\n",
       "      <th>street_2_x</th>\n",
       "      <th>city_x</th>\n",
       "      <th>state_x</th>\n",
       "      <th>zip_x</th>\n",
       "      <th>unique_id</th>\n",
       "      <th>first_name_y</th>\n",
       "      <th>last_name_y</th>\n",
       "      <th>lat</th>\n",
       "      <th>lon</th>\n",
       "      <th>street_y</th>\n",
       "      <th>street_2_y</th>\n",
       "      <th>city_y</th>\n",
       "      <th>state_y</th>\n",
       "      <th>zip_y</th>\n",
       "    </tr>\n",
       "  </thead>\n",
       "  <tbody>\n",
       "    <tr>\n",
       "      <th>0</th>\n",
       "      <td>Marshall</td>\n",
       "      <td>Cole</td>\n",
       "      <td>18233577393219566041</td>\n",
       "      <td>59944 adaline harbor</td>\n",
       "      <td>apt. 862</td>\n",
       "      <td>keelingstad</td>\n",
       "      <td>al</td>\n",
       "      <td>94189-5965</td>\n",
       "      <td>Marshall_Cole_18233577393219566041</td>\n",
       "      <td>Marshall</td>\n",
       "      <td>Cole</td>\n",
       "      <td>67.8952178905721</td>\n",
       "      <td>-71.54982356539455</td>\n",
       "      <td>729 Reuben Stream</td>\n",
       "      <td>Apt. 314</td>\n",
       "      <td>Lake Sheila</td>\n",
       "      <td>AZ</td>\n",
       "      <td>85355</td>\n",
       "    </tr>\n",
       "    <tr>\n",
       "      <th>1</th>\n",
       "      <td>Marshall</td>\n",
       "      <td>Cole</td>\n",
       "      <td>18233577393219566041</td>\n",
       "      <td>59944 adaline harbor</td>\n",
       "      <td>apt. 862</td>\n",
       "      <td>keelingstad</td>\n",
       "      <td>al</td>\n",
       "      <td>94189-5965</td>\n",
       "      <td>Marshall_Cole_18233577393219566041</td>\n",
       "      <td>Marshall</td>\n",
       "      <td>Cole</td>\n",
       "      <td>-84.7669879597025</td>\n",
       "      <td>134.0653096213187</td>\n",
       "      <td>59944 Adaline Harbor</td>\n",
       "      <td>Apt. 862</td>\n",
       "      <td>Keelingstad</td>\n",
       "      <td>AL</td>\n",
       "      <td>94189-5965</td>\n",
       "    </tr>\n",
       "  </tbody>\n",
       "</table>\n",
       "</div>"
      ],
      "text/plain": [
       "  first_name_x last_name_x                   npi              street_x  \\\n",
       "0     Marshall        Cole  18233577393219566041  59944 adaline harbor   \n",
       "1     Marshall        Cole  18233577393219566041  59944 adaline harbor   \n",
       "\n",
       "  street_2_x       city_x state_x       zip_x  \\\n",
       "0   apt. 862  keelingstad      al  94189-5965   \n",
       "1   apt. 862  keelingstad      al  94189-5965   \n",
       "\n",
       "                            unique_id first_name_y last_name_y  \\\n",
       "0  Marshall_Cole_18233577393219566041     Marshall        Cole   \n",
       "1  Marshall_Cole_18233577393219566041     Marshall        Cole   \n",
       "\n",
       "                 lat                 lon              street_y street_2_y  \\\n",
       "0   67.8952178905721  -71.54982356539455     729 Reuben Stream   Apt. 314   \n",
       "1  -84.7669879597025   134.0653096213187  59944 Adaline Harbor   Apt. 862   \n",
       "\n",
       "        city_y state_y       zip_y  \n",
       "0  Lake Sheila      AZ       85355  \n",
       "1  Keelingstad      AL  94189-5965  "
      ]
     },
     "execution_count": 262,
     "metadata": {},
     "output_type": "execute_result"
    }
   ],
   "source": [
    "merged_df = pd.merge(csv_data, new_json_data, on=['npi'], how='inner')\n",
    "print(merged_df.shape)\n",
    "merged_df.head(2)"
   ]
  },
  {
   "cell_type": "code",
   "execution_count": 263,
   "metadata": {},
   "outputs": [
    {
     "data": {
      "text/plain": [
       "(765,)"
      ]
     },
     "execution_count": 263,
     "metadata": {},
     "output_type": "execute_result"
    }
   ],
   "source": [
    "merged_df.first_name_x.unique().shape"
   ]
  },
  {
   "cell_type": "markdown",
   "metadata": {},
   "source": [
    "## 3) # of Doctors matched with name and address : 970"
   ]
  },
  {
   "cell_type": "code",
   "execution_count": 264,
   "metadata": {},
   "outputs": [
    {
     "name": "stdout",
     "output_type": "stream",
     "text": [
      "(2264, 17)\n"
     ]
    },
    {
     "data": {
      "text/html": [
       "<div>\n",
       "<style>\n",
       "    .dataframe thead tr:only-child th {\n",
       "        text-align: right;\n",
       "    }\n",
       "\n",
       "    .dataframe thead th {\n",
       "        text-align: left;\n",
       "    }\n",
       "\n",
       "    .dataframe tbody tr th {\n",
       "        vertical-align: top;\n",
       "    }\n",
       "</style>\n",
       "<table border=\"1\" class=\"dataframe\">\n",
       "  <thead>\n",
       "    <tr style=\"text-align: right;\">\n",
       "      <th></th>\n",
       "      <th>first_name</th>\n",
       "      <th>last_name</th>\n",
       "      <th>npi_x</th>\n",
       "      <th>street_x</th>\n",
       "      <th>street_2_x</th>\n",
       "      <th>city_x</th>\n",
       "      <th>state_x</th>\n",
       "      <th>zip_x</th>\n",
       "      <th>unique_id</th>\n",
       "      <th>npi_y</th>\n",
       "      <th>lat</th>\n",
       "      <th>lon</th>\n",
       "      <th>street_y</th>\n",
       "      <th>street_2_y</th>\n",
       "      <th>city_y</th>\n",
       "      <th>state_y</th>\n",
       "      <th>zip_y</th>\n",
       "    </tr>\n",
       "  </thead>\n",
       "  <tbody>\n",
       "    <tr>\n",
       "      <th>0</th>\n",
       "      <td>Marshall</td>\n",
       "      <td>Cole</td>\n",
       "      <td>18233577393219566041</td>\n",
       "      <td>59944 adaline harbor</td>\n",
       "      <td>apt. 862</td>\n",
       "      <td>keelingstad</td>\n",
       "      <td>al</td>\n",
       "      <td>94189-5965</td>\n",
       "      <td>Marshall_Cole_18233577393219566041</td>\n",
       "      <td>18233577393219566041</td>\n",
       "      <td>67.8952178905721</td>\n",
       "      <td>-71.54982356539455</td>\n",
       "      <td>729 Reuben Stream</td>\n",
       "      <td>Apt. 314</td>\n",
       "      <td>Lake Sheila</td>\n",
       "      <td>AZ</td>\n",
       "      <td>85355</td>\n",
       "    </tr>\n",
       "    <tr>\n",
       "      <th>1</th>\n",
       "      <td>Marshall</td>\n",
       "      <td>Cole</td>\n",
       "      <td>18233577393219566041</td>\n",
       "      <td>59944 adaline harbor</td>\n",
       "      <td>apt. 862</td>\n",
       "      <td>keelingstad</td>\n",
       "      <td>al</td>\n",
       "      <td>94189-5965</td>\n",
       "      <td>Marshall_Cole_18233577393219566041</td>\n",
       "      <td>18233577393219566041</td>\n",
       "      <td>-84.7669879597025</td>\n",
       "      <td>134.0653096213187</td>\n",
       "      <td>59944 Adaline Harbor</td>\n",
       "      <td>Apt. 862</td>\n",
       "      <td>Keelingstad</td>\n",
       "      <td>AL</td>\n",
       "      <td>94189-5965</td>\n",
       "    </tr>\n",
       "  </tbody>\n",
       "</table>\n",
       "</div>"
      ],
      "text/plain": [
       "  first_name last_name                 npi_x              street_x street_2_x  \\\n",
       "0   Marshall      Cole  18233577393219566041  59944 adaline harbor   apt. 862   \n",
       "1   Marshall      Cole  18233577393219566041  59944 adaline harbor   apt. 862   \n",
       "\n",
       "        city_x state_x       zip_x                           unique_id  \\\n",
       "0  keelingstad      al  94189-5965  Marshall_Cole_18233577393219566041   \n",
       "1  keelingstad      al  94189-5965  Marshall_Cole_18233577393219566041   \n",
       "\n",
       "                  npi_y                lat                 lon  \\\n",
       "0  18233577393219566041   67.8952178905721  -71.54982356539455   \n",
       "1  18233577393219566041  -84.7669879597025   134.0653096213187   \n",
       "\n",
       "               street_y street_2_y       city_y state_y       zip_y  \n",
       "0     729 Reuben Stream   Apt. 314  Lake Sheila      AZ       85355  \n",
       "1  59944 Adaline Harbor   Apt. 862  Keelingstad      AL  94189-5965  "
      ]
     },
     "execution_count": 264,
     "metadata": {},
     "output_type": "execute_result"
    }
   ],
   "source": [
    "merged_df = pd.merge(csv_data, new_json_data, on=['first_name', 'last_name'], how='inner')\n",
    "print(merged_df.shape)\n",
    "merged_df.head(2)"
   ]
  },
  {
   "cell_type": "code",
   "execution_count": 266,
   "metadata": {},
   "outputs": [
    {
     "data": {
      "text/plain": [
       "(970,)"
      ]
     },
     "execution_count": 266,
     "metadata": {},
     "output_type": "execute_result"
    }
   ],
   "source": [
    "merged_df.first_name.unique().shape"
   ]
  },
  {
   "cell_type": "markdown",
   "metadata": {},
   "source": [
    "## 4) # of Practices matched with NPI = 1718"
   ]
  },
  {
   "cell_type": "code",
   "execution_count": 268,
   "metadata": {},
   "outputs": [
    {
     "name": "stdout",
     "output_type": "stream",
     "text": [
      "(1718, 18)\n"
     ]
    },
    {
     "data": {
      "text/html": [
       "<div>\n",
       "<style>\n",
       "    .dataframe thead tr:only-child th {\n",
       "        text-align: right;\n",
       "    }\n",
       "\n",
       "    .dataframe thead th {\n",
       "        text-align: left;\n",
       "    }\n",
       "\n",
       "    .dataframe tbody tr th {\n",
       "        vertical-align: top;\n",
       "    }\n",
       "</style>\n",
       "<table border=\"1\" class=\"dataframe\">\n",
       "  <thead>\n",
       "    <tr style=\"text-align: right;\">\n",
       "      <th></th>\n",
       "      <th>first_name_x</th>\n",
       "      <th>last_name_x</th>\n",
       "      <th>npi</th>\n",
       "      <th>street_x</th>\n",
       "      <th>street_2_x</th>\n",
       "      <th>city_x</th>\n",
       "      <th>state_x</th>\n",
       "      <th>zip_x</th>\n",
       "      <th>unique_id</th>\n",
       "      <th>first_name_y</th>\n",
       "      <th>last_name_y</th>\n",
       "      <th>lat</th>\n",
       "      <th>lon</th>\n",
       "      <th>street_y</th>\n",
       "      <th>street_2_y</th>\n",
       "      <th>city_y</th>\n",
       "      <th>state_y</th>\n",
       "      <th>zip_y</th>\n",
       "    </tr>\n",
       "  </thead>\n",
       "  <tbody>\n",
       "    <tr>\n",
       "      <th>0</th>\n",
       "      <td>Marshall</td>\n",
       "      <td>Cole</td>\n",
       "      <td>18233577393219566041</td>\n",
       "      <td>59944 adaline harbor</td>\n",
       "      <td>apt. 862</td>\n",
       "      <td>keelingstad</td>\n",
       "      <td>al</td>\n",
       "      <td>94189-5965</td>\n",
       "      <td>Marshall_Cole_18233577393219566041</td>\n",
       "      <td>Marshall</td>\n",
       "      <td>Cole</td>\n",
       "      <td>67.8952178905721</td>\n",
       "      <td>-71.54982356539455</td>\n",
       "      <td>729 Reuben Stream</td>\n",
       "      <td>Apt. 314</td>\n",
       "      <td>Lake Sheila</td>\n",
       "      <td>AZ</td>\n",
       "      <td>85355</td>\n",
       "    </tr>\n",
       "    <tr>\n",
       "      <th>1</th>\n",
       "      <td>Marshall</td>\n",
       "      <td>Cole</td>\n",
       "      <td>18233577393219566041</td>\n",
       "      <td>59944 adaline harbor</td>\n",
       "      <td>apt. 862</td>\n",
       "      <td>keelingstad</td>\n",
       "      <td>al</td>\n",
       "      <td>94189-5965</td>\n",
       "      <td>Marshall_Cole_18233577393219566041</td>\n",
       "      <td>Marshall</td>\n",
       "      <td>Cole</td>\n",
       "      <td>-84.7669879597025</td>\n",
       "      <td>134.0653096213187</td>\n",
       "      <td>59944 Adaline Harbor</td>\n",
       "      <td>Apt. 862</td>\n",
       "      <td>Keelingstad</td>\n",
       "      <td>AL</td>\n",
       "      <td>94189-5965</td>\n",
       "    </tr>\n",
       "  </tbody>\n",
       "</table>\n",
       "</div>"
      ],
      "text/plain": [
       "  first_name_x last_name_x                   npi              street_x  \\\n",
       "0     Marshall        Cole  18233577393219566041  59944 adaline harbor   \n",
       "1     Marshall        Cole  18233577393219566041  59944 adaline harbor   \n",
       "\n",
       "  street_2_x       city_x state_x       zip_x  \\\n",
       "0   apt. 862  keelingstad      al  94189-5965   \n",
       "1   apt. 862  keelingstad      al  94189-5965   \n",
       "\n",
       "                            unique_id first_name_y last_name_y  \\\n",
       "0  Marshall_Cole_18233577393219566041     Marshall        Cole   \n",
       "1  Marshall_Cole_18233577393219566041     Marshall        Cole   \n",
       "\n",
       "                 lat                 lon              street_y street_2_y  \\\n",
       "0   67.8952178905721  -71.54982356539455     729 Reuben Stream   Apt. 314   \n",
       "1  -84.7669879597025   134.0653096213187  59944 Adaline Harbor   Apt. 862   \n",
       "\n",
       "        city_y state_y       zip_y  \n",
       "0  Lake Sheila      AZ       85355  \n",
       "1  Keelingstad      AL  94189-5965  "
      ]
     },
     "execution_count": 268,
     "metadata": {},
     "output_type": "execute_result"
    }
   ],
   "source": [
    "merged_df = pd.merge(csv_data, new_json_data, on=['npi'], how='inner')\n",
    "print(merged_df.shape)\n",
    "merged_df.head(2)"
   ]
  },
  {
   "cell_type": "markdown",
   "metadata": {},
   "source": [
    "## 5) # of Practice matched with address : 0 (on uncleaned data as-is)"
   ]
  },
  {
   "cell_type": "code",
   "execution_count": 275,
   "metadata": {},
   "outputs": [
    {
     "data": {
      "text/plain": [
       "Index(['first_name', 'last_name', 'npi', 'street', 'street_2', 'city', 'state',\n",
       "       'zip', 'unique_id'],\n",
       "      dtype='object')"
      ]
     },
     "execution_count": 275,
     "metadata": {},
     "output_type": "execute_result"
    }
   ],
   "source": [
    "csv_data.columns"
   ]
  },
  {
   "cell_type": "code",
   "execution_count": 276,
   "metadata": {},
   "outputs": [
    {
     "data": {
      "text/plain": [
       "Index(['first_name', 'last_name', 'npi', 'lat', 'lon', 'street', 'street_2',\n",
       "       'city', 'state', 'zip'],\n",
       "      dtype='object')"
      ]
     },
     "execution_count": 276,
     "metadata": {},
     "output_type": "execute_result"
    }
   ],
   "source": [
    "new_json_data.columns"
   ]
  },
  {
   "cell_type": "code",
   "execution_count": 277,
   "metadata": {},
   "outputs": [
    {
     "name": "stdout",
     "output_type": "stream",
     "text": [
      "(0, 18)\n"
     ]
    },
    {
     "data": {
      "text/html": [
       "<div>\n",
       "<style>\n",
       "    .dataframe thead tr:only-child th {\n",
       "        text-align: right;\n",
       "    }\n",
       "\n",
       "    .dataframe thead th {\n",
       "        text-align: left;\n",
       "    }\n",
       "\n",
       "    .dataframe tbody tr th {\n",
       "        vertical-align: top;\n",
       "    }\n",
       "</style>\n",
       "<table border=\"1\" class=\"dataframe\">\n",
       "  <thead>\n",
       "    <tr style=\"text-align: right;\">\n",
       "      <th></th>\n",
       "      <th>first_name_x</th>\n",
       "      <th>last_name_x</th>\n",
       "      <th>npi_x</th>\n",
       "      <th>street</th>\n",
       "      <th>street_2_x</th>\n",
       "      <th>city_x</th>\n",
       "      <th>state_x</th>\n",
       "      <th>zip_x</th>\n",
       "      <th>unique_id</th>\n",
       "      <th>first_name_y</th>\n",
       "      <th>last_name_y</th>\n",
       "      <th>npi_y</th>\n",
       "      <th>lat</th>\n",
       "      <th>lon</th>\n",
       "      <th>street_2_y</th>\n",
       "      <th>city_y</th>\n",
       "      <th>state_y</th>\n",
       "      <th>zip_y</th>\n",
       "    </tr>\n",
       "  </thead>\n",
       "  <tbody>\n",
       "  </tbody>\n",
       "</table>\n",
       "</div>"
      ],
      "text/plain": [
       "Empty DataFrame\n",
       "Columns: [first_name_x, last_name_x, npi_x, street, street_2_x, city_x, state_x, zip_x, unique_id, first_name_y, last_name_y, npi_y, lat, lon, street_2_y, city_y, state_y, zip_y]\n",
       "Index: []"
      ]
     },
     "execution_count": 277,
     "metadata": {},
     "output_type": "execute_result"
    }
   ],
   "source": [
    "merged_df = pd.merge(csv_data, new_json_data, on=['street'], how='inner')\n",
    "print(merged_df.shape)\n",
    "merged_df.head(2)"
   ]
  },
  {
   "cell_type": "markdown",
   "metadata": {},
   "source": [
    "## 6) # of documents that could not be matched :"
   ]
  },
  {
   "cell_type": "markdown",
   "metadata": {},
   "source": [
    "## unmatched in json 401, unmatched in csv 20725"
   ]
  },
  {
   "cell_type": "code",
   "execution_count": 284,
   "metadata": {},
   "outputs": [
    {
     "name": "stdout",
     "output_type": "stream",
     "text": [
      "(22844, 18)\n"
     ]
    },
    {
     "data": {
      "text/html": [
       "<div>\n",
       "<style>\n",
       "    .dataframe thead tr:only-child th {\n",
       "        text-align: right;\n",
       "    }\n",
       "\n",
       "    .dataframe thead th {\n",
       "        text-align: left;\n",
       "    }\n",
       "\n",
       "    .dataframe tbody tr th {\n",
       "        vertical-align: top;\n",
       "    }\n",
       "</style>\n",
       "<table border=\"1\" class=\"dataframe\">\n",
       "  <thead>\n",
       "    <tr style=\"text-align: right;\">\n",
       "      <th></th>\n",
       "      <th>first_name_x</th>\n",
       "      <th>last_name_x</th>\n",
       "      <th>npi</th>\n",
       "      <th>street_x</th>\n",
       "      <th>street_2_x</th>\n",
       "      <th>city_x</th>\n",
       "      <th>state_x</th>\n",
       "      <th>zip_x</th>\n",
       "      <th>unique_id</th>\n",
       "      <th>first_name_y</th>\n",
       "      <th>last_name_y</th>\n",
       "      <th>lat</th>\n",
       "      <th>lon</th>\n",
       "      <th>street_y</th>\n",
       "      <th>street_2_y</th>\n",
       "      <th>city_y</th>\n",
       "      <th>state_y</th>\n",
       "      <th>zip_y</th>\n",
       "    </tr>\n",
       "  </thead>\n",
       "  <tbody>\n",
       "    <tr>\n",
       "      <th>0</th>\n",
       "      <td>Ruthe</td>\n",
       "      <td>Laverne</td>\n",
       "      <td>44843147983186317848</td>\n",
       "      <td>569 glenda islands</td>\n",
       "      <td>suite 163</td>\n",
       "      <td>willport</td>\n",
       "      <td>nj</td>\n",
       "      <td>23453</td>\n",
       "      <td>Ruthe_Laverne_44843147983186317848</td>\n",
       "      <td>NaN</td>\n",
       "      <td>NaN</td>\n",
       "      <td>NaN</td>\n",
       "      <td>NaN</td>\n",
       "      <td>NaN</td>\n",
       "      <td>NaN</td>\n",
       "      <td>NaN</td>\n",
       "      <td>NaN</td>\n",
       "      <td>NaN</td>\n",
       "    </tr>\n",
       "    <tr>\n",
       "      <th>1</th>\n",
       "      <td>Marshall</td>\n",
       "      <td>Cole</td>\n",
       "      <td>18233577393219566041</td>\n",
       "      <td>59944 adaline harbor</td>\n",
       "      <td>apt. 862</td>\n",
       "      <td>keelingstad</td>\n",
       "      <td>al</td>\n",
       "      <td>94189-5965</td>\n",
       "      <td>Marshall_Cole_18233577393219566041</td>\n",
       "      <td>Marshall</td>\n",
       "      <td>Cole</td>\n",
       "      <td>67.8952178905721</td>\n",
       "      <td>-71.54982356539455</td>\n",
       "      <td>729 Reuben Stream</td>\n",
       "      <td>Apt. 314</td>\n",
       "      <td>Lake Sheila</td>\n",
       "      <td>AZ</td>\n",
       "      <td>85355</td>\n",
       "    </tr>\n",
       "  </tbody>\n",
       "</table>\n",
       "</div>"
      ],
      "text/plain": [
       "  first_name_x last_name_x                   npi              street_x  \\\n",
       "0        Ruthe     Laverne  44843147983186317848    569 glenda islands   \n",
       "1     Marshall        Cole  18233577393219566041  59944 adaline harbor   \n",
       "\n",
       "  street_2_x       city_x state_x       zip_x  \\\n",
       "0  suite 163     willport      nj       23453   \n",
       "1   apt. 862  keelingstad      al  94189-5965   \n",
       "\n",
       "                            unique_id first_name_y last_name_y  \\\n",
       "0  Ruthe_Laverne_44843147983186317848          NaN         NaN   \n",
       "1  Marshall_Cole_18233577393219566041     Marshall        Cole   \n",
       "\n",
       "                lat                 lon           street_y street_2_y  \\\n",
       "0               NaN                 NaN                NaN        NaN   \n",
       "1  67.8952178905721  -71.54982356539455  729 Reuben Stream   Apt. 314   \n",
       "\n",
       "        city_y state_y  zip_y  \n",
       "0          NaN     NaN    NaN  \n",
       "1  Lake Sheila      AZ  85355  "
      ]
     },
     "execution_count": 284,
     "metadata": {},
     "output_type": "execute_result"
    }
   ],
   "source": [
    "merged_df = pd.merge(csv_data, new_json_data, on=['npi'], how='outer')\n",
    "print(merged_df.shape)\n",
    "merged_df.head(2)"
   ]
  },
  {
   "cell_type": "code",
   "execution_count": 280,
   "metadata": {},
   "outputs": [
    {
     "data": {
      "text/plain": [
       "(401, 18)"
      ]
     },
     "execution_count": 280,
     "metadata": {},
     "output_type": "execute_result"
    }
   ],
   "source": [
    "merged_df[merged_df.first_name_y.isnull()].shape"
   ]
  },
  {
   "cell_type": "code",
   "execution_count": 285,
   "metadata": {},
   "outputs": [
    {
     "data": {
      "text/plain": [
       "(20725, 18)"
      ]
     },
     "execution_count": 285,
     "metadata": {},
     "output_type": "execute_result"
    }
   ],
   "source": [
    "merged_df[merged_df.first_name_x.isnull()].shape"
   ]
  },
  {
   "cell_type": "code",
   "execution_count": null,
   "metadata": {
    "collapsed": true
   },
   "outputs": [],
   "source": []
  },
  {
   "cell_type": "code",
   "execution_count": null,
   "metadata": {
    "collapsed": true
   },
   "outputs": [],
   "source": []
  },
  {
   "cell_type": "code",
   "execution_count": null,
   "metadata": {
    "collapsed": true
   },
   "outputs": [],
   "source": []
  },
  {
   "cell_type": "code",
   "execution_count": null,
   "metadata": {
    "collapsed": true
   },
   "outputs": [],
   "source": []
  },
  {
   "cell_type": "code",
   "execution_count": null,
   "metadata": {
    "collapsed": true
   },
   "outputs": [],
   "source": []
  },
  {
   "cell_type": "code",
   "execution_count": null,
   "metadata": {
    "collapsed": true
   },
   "outputs": [],
   "source": []
  },
  {
   "cell_type": "code",
   "execution_count": null,
   "metadata": {
    "collapsed": true
   },
   "outputs": [],
   "source": []
  }
 ],
 "metadata": {
  "kernelspec": {
   "display_name": "Python 3",
   "language": "python",
   "name": "python3"
  },
  "language_info": {
   "codemirror_mode": {
    "name": "ipython",
    "version": 3
   },
   "file_extension": ".py",
   "mimetype": "text/x-python",
   "name": "python",
   "nbconvert_exporter": "python",
   "pygments_lexer": "ipython3",
   "version": "3.5.3rc1"
  }
 },
 "nbformat": 4,
 "nbformat_minor": 2
}
