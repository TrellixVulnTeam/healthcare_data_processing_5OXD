{
 "cells": [
  {
   "cell_type": "code",
   "execution_count": 1,
   "metadata": {
    "collapsed": true
   },
   "outputs": [],
   "source": [
    "import pandas as pd\n",
    "import numpy as np"
   ]
  },
  {
   "cell_type": "code",
   "execution_count": 4,
   "metadata": {},
   "outputs": [
    {
     "name": "stdout",
     "output_type": "stream",
     "text": [
      "compare_tables.ipynb match_file.csv       source_data.json\r\n"
     ]
    }
   ],
   "source": [
    "!ls"
   ]
  },
  {
   "cell_type": "code",
   "execution_count": 6,
   "metadata": {},
   "outputs": [
    {
     "name": "stdout",
     "output_type": "stream",
     "text": [
      "(1265, 8)\n"
     ]
    },
    {
     "data": {
      "text/html": [
       "<div>\n",
       "<style>\n",
       "    .dataframe thead tr:only-child th {\n",
       "        text-align: right;\n",
       "    }\n",
       "\n",
       "    .dataframe thead th {\n",
       "        text-align: left;\n",
       "    }\n",
       "\n",
       "    .dataframe tbody tr th {\n",
       "        vertical-align: top;\n",
       "    }\n",
       "</style>\n",
       "<table border=\"1\" class=\"dataframe\">\n",
       "  <thead>\n",
       "    <tr style=\"text-align: right;\">\n",
       "      <th></th>\n",
       "      <th>first_name</th>\n",
       "      <th>last_name</th>\n",
       "      <th>npi</th>\n",
       "      <th>street</th>\n",
       "      <th>street_2</th>\n",
       "      <th>city</th>\n",
       "      <th>state</th>\n",
       "      <th>zip</th>\n",
       "    </tr>\n",
       "  </thead>\n",
       "  <tbody>\n",
       "    <tr>\n",
       "      <th>0</th>\n",
       "      <td>Ruthe</td>\n",
       "      <td>Laverne</td>\n",
       "      <td>44843147983186317848</td>\n",
       "      <td>569 glenda islands</td>\n",
       "      <td>suite 163</td>\n",
       "      <td>willport</td>\n",
       "      <td>nj</td>\n",
       "      <td>23453</td>\n",
       "    </tr>\n",
       "    <tr>\n",
       "      <th>1</th>\n",
       "      <td>Marshall</td>\n",
       "      <td>Cole</td>\n",
       "      <td>18233577393219566041</td>\n",
       "      <td>59944 adaline harbor</td>\n",
       "      <td>apt. 862</td>\n",
       "      <td>keelingstad</td>\n",
       "      <td>al</td>\n",
       "      <td>94189-5965</td>\n",
       "    </tr>\n",
       "  </tbody>\n",
       "</table>\n",
       "</div>"
      ],
      "text/plain": [
       "  first_name last_name                   npi                street   street_2  \\\n",
       "0      Ruthe   Laverne  44843147983186317848    569 glenda islands  suite 163   \n",
       "1   Marshall      Cole  18233577393219566041  59944 adaline harbor   apt. 862   \n",
       "\n",
       "          city state         zip  \n",
       "0     willport    nj       23453  \n",
       "1  keelingstad    al  94189-5965  "
      ]
     },
     "execution_count": 6,
     "metadata": {},
     "output_type": "execute_result"
    }
   ],
   "source": [
    "csv_data = pd.read_csv('match_file.csv')\n",
    "print(csv_data.shape)\n",
    "csv_data.head(2)"
   ]
  },
  {
   "cell_type": "code",
   "execution_count": 24,
   "metadata": {},
   "outputs": [
    {
     "name": "stdout",
     "output_type": "stream",
     "text": [
      "(11231, 2)\n"
     ]
    },
    {
     "data": {
      "text/html": [
       "<div>\n",
       "<style>\n",
       "    .dataframe thead tr:only-child th {\n",
       "        text-align: right;\n",
       "    }\n",
       "\n",
       "    .dataframe thead th {\n",
       "        text-align: left;\n",
       "    }\n",
       "\n",
       "    .dataframe tbody tr th {\n",
       "        vertical-align: top;\n",
       "    }\n",
       "</style>\n",
       "<table border=\"1\" class=\"dataframe\">\n",
       "  <thead>\n",
       "    <tr style=\"text-align: right;\">\n",
       "      <th></th>\n",
       "      <th>doctor</th>\n",
       "      <th>practices</th>\n",
       "    </tr>\n",
       "  </thead>\n",
       "  <tbody>\n",
       "    <tr>\n",
       "      <th>0</th>\n",
       "      <td>{'first_name': 'Dean', 'last_name': 'Israel', ...</td>\n",
       "      <td>[{'lat': '-79.8757664338564', 'street': '271 A...</td>\n",
       "    </tr>\n",
       "    <tr>\n",
       "      <th>1</th>\n",
       "      <td>{'first_name': 'Quinton', 'last_name': 'Mollie...</td>\n",
       "      <td>[{'lat': '81.37417480720865', 'street': '8496 ...</td>\n",
       "    </tr>\n",
       "  </tbody>\n",
       "</table>\n",
       "</div>"
      ],
      "text/plain": [
       "                                              doctor  \\\n",
       "0  {'first_name': 'Dean', 'last_name': 'Israel', ...   \n",
       "1  {'first_name': 'Quinton', 'last_name': 'Mollie...   \n",
       "\n",
       "                                           practices  \n",
       "0  [{'lat': '-79.8757664338564', 'street': '271 A...  \n",
       "1  [{'lat': '81.37417480720865', 'street': '8496 ...  "
      ]
     },
     "execution_count": 24,
     "metadata": {},
     "output_type": "execute_result"
    }
   ],
   "source": [
    "json_data = pd.read_json('source_data.json', lines=True)\n",
    "print(json_data.shape)\n",
    "json_data.head(2)"
   ]
  },
  {
   "cell_type": "code",
   "execution_count": 61,
   "metadata": {
    "scrolled": true
   },
   "outputs": [
    {
     "name": "stdout",
     "output_type": "stream",
     "text": [
      "(11231, 4)\n"
     ]
    },
    {
     "data": {
      "text/html": [
       "<div>\n",
       "<style>\n",
       "    .dataframe thead tr:only-child th {\n",
       "        text-align: right;\n",
       "    }\n",
       "\n",
       "    .dataframe thead th {\n",
       "        text-align: left;\n",
       "    }\n",
       "\n",
       "    .dataframe tbody tr th {\n",
       "        vertical-align: top;\n",
       "    }\n",
       "</style>\n",
       "<table border=\"1\" class=\"dataframe\">\n",
       "  <thead>\n",
       "    <tr style=\"text-align: right;\">\n",
       "      <th></th>\n",
       "      <th>doctor.first_name</th>\n",
       "      <th>doctor.last_name</th>\n",
       "      <th>doctor.npi</th>\n",
       "      <th>practices</th>\n",
       "    </tr>\n",
       "  </thead>\n",
       "  <tbody>\n",
       "    <tr>\n",
       "      <th>0</th>\n",
       "      <td>Dean</td>\n",
       "      <td>Israel</td>\n",
       "      <td>85103080143784778415</td>\n",
       "      <td>[{'lat': '-79.8757664338564', 'street': '271 A...</td>\n",
       "    </tr>\n",
       "    <tr>\n",
       "      <th>1</th>\n",
       "      <td>Quinton</td>\n",
       "      <td>Mollie</td>\n",
       "      <td>36233383542350521233</td>\n",
       "      <td>[{'lat': '81.37417480720865', 'street': '8496 ...</td>\n",
       "    </tr>\n",
       "  </tbody>\n",
       "</table>\n",
       "</div>"
      ],
      "text/plain": [
       "  doctor.first_name doctor.last_name            doctor.npi  \\\n",
       "0              Dean           Israel  85103080143784778415   \n",
       "1           Quinton           Mollie  36233383542350521233   \n",
       "\n",
       "                                           practices  \n",
       "0  [{'lat': '-79.8757664338564', 'street': '271 A...  \n",
       "1  [{'lat': '81.37417480720865', 'street': '8496 ...  "
      ]
     },
     "execution_count": 61,
     "metadata": {},
     "output_type": "execute_result"
    }
   ],
   "source": [
    "df1 = pd.io.json.json_normalize(json_data.to_dict('records'))\n",
    "print(df1.shape)\n",
    "df1.head(2)"
   ]
  },
  {
   "cell_type": "code",
   "execution_count": 62,
   "metadata": {
    "scrolled": true
   },
   "outputs": [
    {
     "name": "stdout",
     "output_type": "stream",
     "text": [
      "(11231, 7)\n"
     ]
    },
    {
     "data": {
      "text/html": [
       "<div>\n",
       "<style>\n",
       "    .dataframe thead tr:only-child th {\n",
       "        text-align: right;\n",
       "    }\n",
       "\n",
       "    .dataframe thead th {\n",
       "        text-align: left;\n",
       "    }\n",
       "\n",
       "    .dataframe tbody tr th {\n",
       "        vertical-align: top;\n",
       "    }\n",
       "</style>\n",
       "<table border=\"1\" class=\"dataframe\">\n",
       "  <thead>\n",
       "    <tr style=\"text-align: right;\">\n",
       "      <th></th>\n",
       "      <th>city</th>\n",
       "      <th>lat</th>\n",
       "      <th>lon</th>\n",
       "      <th>state</th>\n",
       "      <th>street</th>\n",
       "      <th>street_2</th>\n",
       "      <th>zip</th>\n",
       "    </tr>\n",
       "  </thead>\n",
       "  <tbody>\n",
       "    <tr>\n",
       "      <th>0</th>\n",
       "      <td>Port Demetris</td>\n",
       "      <td>-79.8757664338564</td>\n",
       "      <td>84.31253504872467</td>\n",
       "      <td>LA</td>\n",
       "      <td>271 Annabelle Fort</td>\n",
       "      <td>Apt. 404</td>\n",
       "      <td>53549</td>\n",
       "    </tr>\n",
       "    <tr>\n",
       "      <th>1</th>\n",
       "      <td>Nealville</td>\n",
       "      <td>81.37417480720865</td>\n",
       "      <td>-95.33450729432164</td>\n",
       "      <td>OR</td>\n",
       "      <td>8496 Kennedi Inlet</td>\n",
       "      <td>Suite 815</td>\n",
       "      <td>52665-6811</td>\n",
       "    </tr>\n",
       "  </tbody>\n",
       "</table>\n",
       "</div>"
      ],
      "text/plain": [
       "            city                lat                 lon state  \\\n",
       "0  Port Demetris  -79.8757664338564   84.31253504872467    LA   \n",
       "1      Nealville  81.37417480720865  -95.33450729432164    OR   \n",
       "\n",
       "               street   street_2         zip  \n",
       "0  271 Annabelle Fort   Apt. 404       53549  \n",
       "1  8496 Kennedi Inlet  Suite 815  52665-6811  "
      ]
     },
     "execution_count": 62,
     "metadata": {},
     "output_type": "execute_result"
    }
   ],
   "source": [
    "df2 = pd.io.json.json_normalize(df1.practices.apply(lambda x: x[0]).tolist())\n",
    "print(df2.shape)\n",
    "df2.head(2)"
   ]
  },
  {
   "cell_type": "code",
   "execution_count": 64,
   "metadata": {},
   "outputs": [
    {
     "data": {
      "text/html": [
       "<div>\n",
       "<style>\n",
       "    .dataframe thead tr:only-child th {\n",
       "        text-align: right;\n",
       "    }\n",
       "\n",
       "    .dataframe thead th {\n",
       "        text-align: left;\n",
       "    }\n",
       "\n",
       "    .dataframe tbody tr th {\n",
       "        vertical-align: top;\n",
       "    }\n",
       "</style>\n",
       "<table border=\"1\" class=\"dataframe\">\n",
       "  <thead>\n",
       "    <tr style=\"text-align: right;\">\n",
       "      <th></th>\n",
       "      <th>doctor.first_name</th>\n",
       "      <th>doctor.last_name</th>\n",
       "      <th>doctor.npi</th>\n",
       "      <th>city</th>\n",
       "      <th>lat</th>\n",
       "      <th>state</th>\n",
       "      <th>street</th>\n",
       "      <th>street_2</th>\n",
       "      <th>zip</th>\n",
       "    </tr>\n",
       "  </thead>\n",
       "  <tbody>\n",
       "    <tr>\n",
       "      <th>0</th>\n",
       "      <td>Dean</td>\n",
       "      <td>Israel</td>\n",
       "      <td>85103080143784778415</td>\n",
       "      <td>Port Demetris</td>\n",
       "      <td>-79.8757664338564</td>\n",
       "      <td>LA</td>\n",
       "      <td>271 Annabelle Fort</td>\n",
       "      <td>Apt. 404</td>\n",
       "      <td>53549</td>\n",
       "    </tr>\n",
       "    <tr>\n",
       "      <th>1</th>\n",
       "      <td>Quinton</td>\n",
       "      <td>Mollie</td>\n",
       "      <td>36233383542350521233</td>\n",
       "      <td>Nealville</td>\n",
       "      <td>81.37417480720865</td>\n",
       "      <td>OR</td>\n",
       "      <td>8496 Kennedi Inlet</td>\n",
       "      <td>Suite 815</td>\n",
       "      <td>52665-6811</td>\n",
       "    </tr>\n",
       "    <tr>\n",
       "      <th>2</th>\n",
       "      <td>Vincent</td>\n",
       "      <td>Abbie</td>\n",
       "      <td>68951826121607537145</td>\n",
       "      <td>West Lonnieberg</td>\n",
       "      <td>52.12502086274685</td>\n",
       "      <td>GA</td>\n",
       "      <td>210 Walsh Island</td>\n",
       "      <td>Suite 839</td>\n",
       "      <td>59104</td>\n",
       "    </tr>\n",
       "    <tr>\n",
       "      <th>3</th>\n",
       "      <td>Gerardo</td>\n",
       "      <td>Piper</td>\n",
       "      <td>92442805782715742535</td>\n",
       "      <td>Grantborough</td>\n",
       "      <td>78.53231427000821</td>\n",
       "      <td>MN</td>\n",
       "      <td>1262 O'Keefe Ford</td>\n",
       "      <td>Apt. 790</td>\n",
       "      <td>39283</td>\n",
       "    </tr>\n",
       "    <tr>\n",
       "      <th>4</th>\n",
       "      <td>Dean</td>\n",
       "      <td>Francesco</td>\n",
       "      <td>83029151715578341587</td>\n",
       "      <td>New Fredy</td>\n",
       "      <td>-4.541598251928605</td>\n",
       "      <td>IL</td>\n",
       "      <td>98764 Mante Trafficway</td>\n",
       "      <td>Suite 356</td>\n",
       "      <td>43570</td>\n",
       "    </tr>\n",
       "  </tbody>\n",
       "</table>\n",
       "</div>"
      ],
      "text/plain": [
       "  doctor.first_name doctor.last_name            doctor.npi             city  \\\n",
       "0              Dean           Israel  85103080143784778415    Port Demetris   \n",
       "1           Quinton           Mollie  36233383542350521233        Nealville   \n",
       "2           Vincent            Abbie  68951826121607537145  West Lonnieberg   \n",
       "3           Gerardo            Piper  92442805782715742535     Grantborough   \n",
       "4              Dean        Francesco  83029151715578341587        New Fredy   \n",
       "\n",
       "                  lat state                  street   street_2         zip  \n",
       "0   -79.8757664338564    LA      271 Annabelle Fort   Apt. 404       53549  \n",
       "1   81.37417480720865    OR      8496 Kennedi Inlet  Suite 815  52665-6811  \n",
       "2   52.12502086274685    GA        210 Walsh Island  Suite 839       59104  \n",
       "3   78.53231427000821    MN       1262 O'Keefe Ford   Apt. 790       39283  \n",
       "4  -4.541598251928605    IL  98764 Mante Trafficway  Suite 356       43570  "
      ]
     },
     "execution_count": 64,
     "metadata": {},
     "output_type": "execute_result"
    }
   ],
   "source": [
    "df1['city'] = df2.city\n",
    "df1['lat'] = df2.lat\n",
    "df1['lat'] = df2.lat\n",
    "df1['state'] = df2.state\n",
    "df1['street'] = df2.street\n",
    "df1['street_2'] = df2.street_2\n",
    "df1['zip'] = df2.zip\n",
    "df1 = df1.drop(['practices'], 1).copy()\n",
    "df1.head()"
   ]
  },
  {
   "cell_type": "code",
   "execution_count": 76,
   "metadata": {
    "scrolled": true
   },
   "outputs": [
    {
     "data": {
      "text/html": [
       "<div>\n",
       "<style>\n",
       "    .dataframe thead tr:only-child th {\n",
       "        text-align: right;\n",
       "    }\n",
       "\n",
       "    .dataframe thead th {\n",
       "        text-align: left;\n",
       "    }\n",
       "\n",
       "    .dataframe tbody tr th {\n",
       "        vertical-align: top;\n",
       "    }\n",
       "</style>\n",
       "<table border=\"1\" class=\"dataframe\">\n",
       "  <thead>\n",
       "    <tr style=\"text-align: right;\">\n",
       "      <th></th>\n",
       "      <th>doctor.first_name</th>\n",
       "      <th>doctor.last_name</th>\n",
       "      <th>doctor.npi</th>\n",
       "      <th>city</th>\n",
       "      <th>lat</th>\n",
       "      <th>state</th>\n",
       "      <th>street</th>\n",
       "      <th>street_2</th>\n",
       "      <th>zip</th>\n",
       "      <th>unique_id</th>\n",
       "    </tr>\n",
       "  </thead>\n",
       "  <tbody>\n",
       "    <tr>\n",
       "      <th>0</th>\n",
       "      <td>Dean</td>\n",
       "      <td>Israel</td>\n",
       "      <td>85103080143784778415</td>\n",
       "      <td>Port Demetris</td>\n",
       "      <td>-79.8757664338564</td>\n",
       "      <td>LA</td>\n",
       "      <td>271 Annabelle Fort</td>\n",
       "      <td>Apt. 404</td>\n",
       "      <td>53549</td>\n",
       "      <td>Dean_Israel_85103080143784778415</td>\n",
       "    </tr>\n",
       "    <tr>\n",
       "      <th>1</th>\n",
       "      <td>Quinton</td>\n",
       "      <td>Mollie</td>\n",
       "      <td>36233383542350521233</td>\n",
       "      <td>Nealville</td>\n",
       "      <td>81.37417480720865</td>\n",
       "      <td>OR</td>\n",
       "      <td>8496 Kennedi Inlet</td>\n",
       "      <td>Suite 815</td>\n",
       "      <td>52665-6811</td>\n",
       "      <td>Quinton_Mollie_36233383542350521233</td>\n",
       "    </tr>\n",
       "  </tbody>\n",
       "</table>\n",
       "</div>"
      ],
      "text/plain": [
       "  doctor.first_name doctor.last_name            doctor.npi           city  \\\n",
       "0              Dean           Israel  85103080143784778415  Port Demetris   \n",
       "1           Quinton           Mollie  36233383542350521233      Nealville   \n",
       "\n",
       "                 lat state              street   street_2         zip  \\\n",
       "0  -79.8757664338564    LA  271 Annabelle Fort   Apt. 404       53549   \n",
       "1  81.37417480720865    OR  8496 Kennedi Inlet  Suite 815  52665-6811   \n",
       "\n",
       "                             unique_id  \n",
       "0     Dean_Israel_85103080143784778415  \n",
       "1  Quinton_Mollie_36233383542350521233  "
      ]
     },
     "execution_count": 76,
     "metadata": {},
     "output_type": "execute_result"
    }
   ],
   "source": [
    "df1['unique_id'] = df1['doctor.first_name'] +'_' + df1['doctor.last_name'] + '_' + df1['doctor.npi']\n",
    "df1.head(2)"
   ]
  },
  {
   "cell_type": "code",
   "execution_count": 78,
   "metadata": {},
   "outputs": [],
   "source": [
    "csv_data['unique_id'] = csv_data['first_name'] +'_' + csv_data['last_name'] + '_' + csv_data['npi']"
   ]
  },
  {
   "cell_type": "code",
   "execution_count": 80,
   "metadata": {},
   "outputs": [
    {
     "data": {
      "text/plain": [
       "(1265, 9)"
      ]
     },
     "execution_count": 80,
     "metadata": {},
     "output_type": "execute_result"
    }
   ],
   "source": [
    "csv_data.shape"
   ]
  },
  {
   "cell_type": "code",
   "execution_count": 82,
   "metadata": {
    "scrolled": true
   },
   "outputs": [
    {
     "name": "stdout",
     "output_type": "stream",
     "text": [
      "(864, 18)\n"
     ]
    },
    {
     "data": {
      "text/html": [
       "<div>\n",
       "<style>\n",
       "    .dataframe thead tr:only-child th {\n",
       "        text-align: right;\n",
       "    }\n",
       "\n",
       "    .dataframe thead th {\n",
       "        text-align: left;\n",
       "    }\n",
       "\n",
       "    .dataframe tbody tr th {\n",
       "        vertical-align: top;\n",
       "    }\n",
       "</style>\n",
       "<table border=\"1\" class=\"dataframe\">\n",
       "  <thead>\n",
       "    <tr style=\"text-align: right;\">\n",
       "      <th></th>\n",
       "      <th>first_name</th>\n",
       "      <th>last_name</th>\n",
       "      <th>npi</th>\n",
       "      <th>street_x</th>\n",
       "      <th>street_2_x</th>\n",
       "      <th>city_x</th>\n",
       "      <th>state_x</th>\n",
       "      <th>zip_x</th>\n",
       "      <th>unique_id</th>\n",
       "      <th>doctor.first_name</th>\n",
       "      <th>doctor.last_name</th>\n",
       "      <th>doctor.npi</th>\n",
       "      <th>city_y</th>\n",
       "      <th>lat</th>\n",
       "      <th>state_y</th>\n",
       "      <th>street_y</th>\n",
       "      <th>street_2_y</th>\n",
       "      <th>zip_y</th>\n",
       "    </tr>\n",
       "  </thead>\n",
       "  <tbody>\n",
       "    <tr>\n",
       "      <th>0</th>\n",
       "      <td>Marshall</td>\n",
       "      <td>Cole</td>\n",
       "      <td>18233577393219566041</td>\n",
       "      <td>59944 adaline harbor</td>\n",
       "      <td>apt. 862</td>\n",
       "      <td>keelingstad</td>\n",
       "      <td>al</td>\n",
       "      <td>94189-5965</td>\n",
       "      <td>Marshall_Cole_18233577393219566041</td>\n",
       "      <td>Marshall</td>\n",
       "      <td>Cole</td>\n",
       "      <td>18233577393219566041</td>\n",
       "      <td>Lake Sheila</td>\n",
       "      <td>67.8952178905721</td>\n",
       "      <td>AZ</td>\n",
       "      <td>729 Reuben Stream</td>\n",
       "      <td>Apt. 314</td>\n",
       "      <td>85355</td>\n",
       "    </tr>\n",
       "    <tr>\n",
       "      <th>1</th>\n",
       "      <td>Lawson</td>\n",
       "      <td>Lilliana</td>\n",
       "      <td>78792788275411915642</td>\n",
       "      <td>36175 amina mount</td>\n",
       "      <td>apt. 256</td>\n",
       "      <td>north daija</td>\n",
       "      <td>de</td>\n",
       "      <td>30997-4476</td>\n",
       "      <td>Lawson_Lilliana_78792788275411915642</td>\n",
       "      <td>Lawson</td>\n",
       "      <td>Lilliana</td>\n",
       "      <td>78792788275411915642</td>\n",
       "      <td>North Daija</td>\n",
       "      <td>-5.6687886642665575</td>\n",
       "      <td>DE</td>\n",
       "      <td>36175 Amina Mount</td>\n",
       "      <td>Apt. 256</td>\n",
       "      <td>30997-4476</td>\n",
       "    </tr>\n",
       "  </tbody>\n",
       "</table>\n",
       "</div>"
      ],
      "text/plain": [
       "  first_name last_name                   npi              street_x street_2_x  \\\n",
       "0   Marshall      Cole  18233577393219566041  59944 adaline harbor   apt. 862   \n",
       "1     Lawson  Lilliana  78792788275411915642     36175 amina mount   apt. 256   \n",
       "\n",
       "        city_x state_x       zip_x                             unique_id  \\\n",
       "0  keelingstad      al  94189-5965    Marshall_Cole_18233577393219566041   \n",
       "1  north daija      de  30997-4476  Lawson_Lilliana_78792788275411915642   \n",
       "\n",
       "  doctor.first_name doctor.last_name            doctor.npi       city_y  \\\n",
       "0          Marshall             Cole  18233577393219566041  Lake Sheila   \n",
       "1            Lawson         Lilliana  78792788275411915642  North Daija   \n",
       "\n",
       "                   lat state_y           street_y street_2_y       zip_y  \n",
       "0     67.8952178905721      AZ  729 Reuben Stream   Apt. 314       85355  \n",
       "1  -5.6687886642665575      DE  36175 Amina Mount   Apt. 256  30997-4476  "
      ]
     },
     "execution_count": 82,
     "metadata": {},
     "output_type": "execute_result"
    }
   ],
   "source": [
    "merged_df = pd.merge(csv_data, df1, on=['unique_id'], how='left')\n",
    "print(merged_df.shape)\n",
    "merged_df.head(2)"
   ]
  },
  {
   "cell_type": "code",
   "execution_count": 83,
   "metadata": {},
   "outputs": [
    {
     "name": "stdout",
     "output_type": "stream",
     "text": [
      "(864, 18)\n"
     ]
    },
    {
     "data": {
      "text/html": [
       "<div>\n",
       "<style>\n",
       "    .dataframe thead tr:only-child th {\n",
       "        text-align: right;\n",
       "    }\n",
       "\n",
       "    .dataframe thead th {\n",
       "        text-align: left;\n",
       "    }\n",
       "\n",
       "    .dataframe tbody tr th {\n",
       "        vertical-align: top;\n",
       "    }\n",
       "</style>\n",
       "<table border=\"1\" class=\"dataframe\">\n",
       "  <thead>\n",
       "    <tr style=\"text-align: right;\">\n",
       "      <th></th>\n",
       "      <th>first_name</th>\n",
       "      <th>last_name</th>\n",
       "      <th>npi</th>\n",
       "      <th>street_x</th>\n",
       "      <th>street_2_x</th>\n",
       "      <th>city_x</th>\n",
       "      <th>state_x</th>\n",
       "      <th>zip_x</th>\n",
       "      <th>unique_id</th>\n",
       "      <th>doctor.first_name</th>\n",
       "      <th>doctor.last_name</th>\n",
       "      <th>doctor.npi</th>\n",
       "      <th>city_y</th>\n",
       "      <th>lat</th>\n",
       "      <th>state_y</th>\n",
       "      <th>street_y</th>\n",
       "      <th>street_2_y</th>\n",
       "      <th>zip_y</th>\n",
       "    </tr>\n",
       "  </thead>\n",
       "  <tbody>\n",
       "    <tr>\n",
       "      <th>0</th>\n",
       "      <td>Marshall</td>\n",
       "      <td>Cole</td>\n",
       "      <td>18233577393219566041</td>\n",
       "      <td>59944 adaline harbor</td>\n",
       "      <td>apt. 862</td>\n",
       "      <td>keelingstad</td>\n",
       "      <td>al</td>\n",
       "      <td>94189-5965</td>\n",
       "      <td>Marshall_Cole_18233577393219566041</td>\n",
       "      <td>Marshall</td>\n",
       "      <td>Cole</td>\n",
       "      <td>18233577393219566041</td>\n",
       "      <td>Lake Sheila</td>\n",
       "      <td>67.8952178905721</td>\n",
       "      <td>AZ</td>\n",
       "      <td>729 Reuben Stream</td>\n",
       "      <td>Apt. 314</td>\n",
       "      <td>85355</td>\n",
       "    </tr>\n",
       "    <tr>\n",
       "      <th>1</th>\n",
       "      <td>Lawson</td>\n",
       "      <td>Lilliana</td>\n",
       "      <td>78792788275411915642</td>\n",
       "      <td>36175 amina mount</td>\n",
       "      <td>apt. 256</td>\n",
       "      <td>north daija</td>\n",
       "      <td>de</td>\n",
       "      <td>30997-4476</td>\n",
       "      <td>Lawson_Lilliana_78792788275411915642</td>\n",
       "      <td>Lawson</td>\n",
       "      <td>Lilliana</td>\n",
       "      <td>78792788275411915642</td>\n",
       "      <td>North Daija</td>\n",
       "      <td>-5.6687886642665575</td>\n",
       "      <td>DE</td>\n",
       "      <td>36175 Amina Mount</td>\n",
       "      <td>Apt. 256</td>\n",
       "      <td>30997-4476</td>\n",
       "    </tr>\n",
       "  </tbody>\n",
       "</table>\n",
       "</div>"
      ],
      "text/plain": [
       "  first_name last_name                   npi              street_x street_2_x  \\\n",
       "0   Marshall      Cole  18233577393219566041  59944 adaline harbor   apt. 862   \n",
       "1     Lawson  Lilliana  78792788275411915642     36175 amina mount   apt. 256   \n",
       "\n",
       "        city_x state_x       zip_x                             unique_id  \\\n",
       "0  keelingstad      al  94189-5965    Marshall_Cole_18233577393219566041   \n",
       "1  north daija      de  30997-4476  Lawson_Lilliana_78792788275411915642   \n",
       "\n",
       "  doctor.first_name doctor.last_name            doctor.npi       city_y  \\\n",
       "0          Marshall             Cole  18233577393219566041  Lake Sheila   \n",
       "1            Lawson         Lilliana  78792788275411915642  North Daija   \n",
       "\n",
       "                   lat state_y           street_y street_2_y       zip_y  \n",
       "0     67.8952178905721      AZ  729 Reuben Stream   Apt. 314       85355  \n",
       "1  -5.6687886642665575      DE  36175 Amina Mount   Apt. 256  30997-4476  "
      ]
     },
     "execution_count": 83,
     "metadata": {},
     "output_type": "execute_result"
    }
   ],
   "source": [
    "merged_df = pd.merge(csv_data, df1, on=['unique_id'])\n",
    "print(merged_df.shape)\n",
    "merged_df.head(2)"
   ]
  },
  {
   "cell_type": "code",
   "execution_count": 66,
   "metadata": {},
   "outputs": [
    {
     "data": {
      "text/html": [
       "<div>\n",
       "<style>\n",
       "    .dataframe thead tr:only-child th {\n",
       "        text-align: right;\n",
       "    }\n",
       "\n",
       "    .dataframe thead th {\n",
       "        text-align: left;\n",
       "    }\n",
       "\n",
       "    .dataframe tbody tr th {\n",
       "        vertical-align: top;\n",
       "    }\n",
       "</style>\n",
       "<table border=\"1\" class=\"dataframe\">\n",
       "  <thead>\n",
       "    <tr style=\"text-align: right;\">\n",
       "      <th></th>\n",
       "      <th>first_name</th>\n",
       "      <th>last_name</th>\n",
       "      <th>npi</th>\n",
       "      <th>street</th>\n",
       "      <th>street_2</th>\n",
       "      <th>city</th>\n",
       "      <th>state</th>\n",
       "      <th>zip</th>\n",
       "    </tr>\n",
       "  </thead>\n",
       "  <tbody>\n",
       "    <tr>\n",
       "      <th>0</th>\n",
       "      <td>Ruthe</td>\n",
       "      <td>Laverne</td>\n",
       "      <td>44843147983186317848</td>\n",
       "      <td>569 glenda islands</td>\n",
       "      <td>suite 163</td>\n",
       "      <td>willport</td>\n",
       "      <td>nj</td>\n",
       "      <td>23453</td>\n",
       "    </tr>\n",
       "    <tr>\n",
       "      <th>1</th>\n",
       "      <td>Marshall</td>\n",
       "      <td>Cole</td>\n",
       "      <td>18233577393219566041</td>\n",
       "      <td>59944 adaline harbor</td>\n",
       "      <td>apt. 862</td>\n",
       "      <td>keelingstad</td>\n",
       "      <td>al</td>\n",
       "      <td>94189-5965</td>\n",
       "    </tr>\n",
       "    <tr>\n",
       "      <th>2</th>\n",
       "      <td>Lawson</td>\n",
       "      <td>Lilliana</td>\n",
       "      <td>78792788275411915642</td>\n",
       "      <td>36175 amina mount</td>\n",
       "      <td>apt. 256</td>\n",
       "      <td>north daija</td>\n",
       "      <td>de</td>\n",
       "      <td>30997-4476</td>\n",
       "    </tr>\n",
       "    <tr>\n",
       "      <th>3</th>\n",
       "      <td>Martine</td>\n",
       "      <td>Kiana</td>\n",
       "      <td>23583155472740817761</td>\n",
       "      <td>188 walsh flat</td>\n",
       "      <td>apt. 891</td>\n",
       "      <td>yasmeenstad</td>\n",
       "      <td>nv</td>\n",
       "      <td>83568</td>\n",
       "    </tr>\n",
       "    <tr>\n",
       "      <th>4</th>\n",
       "      <td>Leatha</td>\n",
       "      <td>Freida</td>\n",
       "      <td>NaN</td>\n",
       "      <td>43796 gutmann plains</td>\n",
       "      <td>suite 341</td>\n",
       "      <td>vonmouth</td>\n",
       "      <td>fl</td>\n",
       "      <td>10500</td>\n",
       "    </tr>\n",
       "  </tbody>\n",
       "</table>\n",
       "</div>"
      ],
      "text/plain": [
       "  first_name last_name                   npi                street   street_2  \\\n",
       "0      Ruthe   Laverne  44843147983186317848    569 glenda islands  suite 163   \n",
       "1   Marshall      Cole  18233577393219566041  59944 adaline harbor   apt. 862   \n",
       "2     Lawson  Lilliana  78792788275411915642     36175 amina mount   apt. 256   \n",
       "3    Martine     Kiana  23583155472740817761        188 walsh flat   apt. 891   \n",
       "4     Leatha    Freida                   NaN  43796 gutmann plains  suite 341   \n",
       "\n",
       "          city state         zip  \n",
       "0     willport    nj       23453  \n",
       "1  keelingstad    al  94189-5965  \n",
       "2  north daija    de  30997-4476  \n",
       "3  yasmeenstad    nv       83568  \n",
       "4     vonmouth    fl       10500  "
      ]
     },
     "execution_count": 66,
     "metadata": {},
     "output_type": "execute_result"
    }
   ],
   "source": [
    "csv_data.head()"
   ]
  },
  {
   "cell_type": "code",
   "execution_count": null,
   "metadata": {
    "collapsed": true
   },
   "outputs": [],
   "source": []
  },
  {
   "cell_type": "code",
   "execution_count": null,
   "metadata": {
    "collapsed": true
   },
   "outputs": [],
   "source": []
  },
  {
   "cell_type": "code",
   "execution_count": null,
   "metadata": {
    "collapsed": true
   },
   "outputs": [],
   "source": []
  },
  {
   "cell_type": "code",
   "execution_count": 87,
   "metadata": {
    "collapsed": true
   },
   "outputs": [],
   "source": [
    "import json"
   ]
  },
  {
   "cell_type": "code",
   "execution_count": null,
   "metadata": {
    "collapsed": true
   },
   "outputs": [],
   "source": [
    "json.load()"
   ]
  },
  {
   "cell_type": "code",
   "execution_count": 86,
   "metadata": {},
   "outputs": [
    {
     "name": "stdout",
     "output_type": "stream",
     "text": [
      "{\"doctor\":{\"first_name\":\"Dean\",\"last_name\":\"Israel\",\"npi\":\"85103080143784778415\"},\"practices\":[{\"street\":\"271 Annabelle Fort\",\"street_2\":\"Apt. 404\",\"zip\":\"53549\",\"city\":\"Port Demetris\",\"state\":\"LA\",\"lat\":\"-79.8757664338564\",\"lon\":\"84.31253504872467\"}]}\n",
      "\n"
     ]
    }
   ],
   "source": [
    "with open('source_data.json', 'r+') as infile:\n",
    "    for line in infile:\n",
    "        print(line)\n",
    "        for k, v in \n",
    "        break"
   ]
  },
  {
   "cell_type": "code",
   "execution_count": null,
   "metadata": {
    "collapsed": true
   },
   "outputs": [],
   "source": []
  },
  {
   "cell_type": "code",
   "execution_count": null,
   "metadata": {
    "collapsed": true
   },
   "outputs": [],
   "source": []
  },
  {
   "cell_type": "code",
   "execution_count": null,
   "metadata": {
    "collapsed": true
   },
   "outputs": [],
   "source": []
  },
  {
   "cell_type": "code",
   "execution_count": null,
   "metadata": {
    "collapsed": true
   },
   "outputs": [],
   "source": []
  },
  {
   "cell_type": "code",
   "execution_count": null,
   "metadata": {
    "scrolled": true
   },
   "outputs": [],
   "source": []
  },
  {
   "cell_type": "code",
   "execution_count": null,
   "metadata": {
    "scrolled": true
   },
   "outputs": [],
   "source": [
    "pd.DataFrame(json_data.doctor.tolist())"
   ]
  }
 ],
 "metadata": {
  "kernelspec": {
   "display_name": "Python 3",
   "language": "python",
   "name": "python3"
  },
  "language_info": {
   "codemirror_mode": {
    "name": "ipython",
    "version": 3
   },
   "file_extension": ".py",
   "mimetype": "text/x-python",
   "name": "python",
   "nbconvert_exporter": "python",
   "pygments_lexer": "ipython3",
   "version": "3.5.3rc1"
  }
 },
 "nbformat": 4,
 "nbformat_minor": 2
}
